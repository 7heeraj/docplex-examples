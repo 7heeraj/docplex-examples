{
 "cells": [
  {
   "cell_type": "markdown",
   "metadata": {},
   "source": [
    "<h1><font color=blue>Beginning with Constraint Programming</font></h1>\n",
    "<H2><font color=green>The Golomb Ruler example</font></h2>"
   ]
  },
  {
   "cell_type": "markdown",
   "metadata": {},
   "source": [
    "<h3>Problem description</h3>\n",
    "<p>\n",
    "A detailed description (from which this paragraph comes from) is available on <b>Wikipedia</b> at https://en.wikipedia.org/wiki/Golomb_ruler.\n",
    "<p>\n",
    "In mathematics, a Golomb ruler is a set of marks at integer positions along an imaginary ruler such that no two pairs of marks are the same distance apart. The number of marks on the ruler is its order, and the largest distance between two of its marks is its length. \n",
    "<p>\n",
    "Following is an example of Golomb ruler of order 4 and length 6.\n",
    "<img src=\"https://upload.wikimedia.org/wikipedia/commons/thumb/0/05/Golomb_Ruler-4.svg/220px-Golomb_Ruler-4.svg.png\"></center>\n",
    "<p>\n",
    "This problem is not only an intellectual problem. It has a lot of practical applications:\n",
    "<ul>\n",
    "<li> within Information Theory related to error correcting codes,\n",
    "<li> the selection of radio frequencies to reduce the effects of intermodulation interference,\n",
    "<li> the design of conference rooms, to maximize the number of possible configurations with a minimum of partitions:\n",
    "</ul>\n",
    "<center>\n",
    "<img src=\"https://upload.wikimedia.org/wikipedia/commons/thumb/5/52/Golomb_ruler_conference_room.svg/300px-Golomb_ruler_conference_room.svg.png\"></center>\n"
   ]
  },
  {
   "cell_type": "markdown",
   "metadata": {
    "collapsed": true
   },
   "source": [
    "<h3>Modeling the problem</h3>\n",
    "<p>\n",
    "Constraint Programming is a programming paradigm that allows to express a problem using:\n",
    "<ul>\n",
    "<li> the unknowns of the problem (the <i>variables</i>),\n",
    "<li> the constraints/laws/rules of the problem, mathematical expressions linking variables together (the <i>constraints</i>),\n",
    "<li> what is to be optimized (the <i>objective function</i>).\n",
    "</ul>\n",
    "<p>\n",
    "All this information, plus some configuration parameters, is aggregated into a single object called <i>model</i>. \n",
    "<p>\n",
    "The remainder of this notebook describes in details how to build and solve this problem with IBM CP Optimizer, using its <i>DOcplex</i> Python modeling API."
   ]
  },
  {
   "cell_type": "markdown",
   "metadata": {},
   "source": [
    "<h3>Modeling with Python</h3>\n",
    "<p>\n",
    "Let's start to build our Golomb Ruler problem with IBM CP Optimizer for Python.\n",
    "<p>\n",
    "The first thing is to get access to the appropriate DOcplex library. The following code imports the appropriate package <i>docplex.cp</i>. If the import fails, an installation command is executed as it is probable that the package is not installed. "
   ]
  },
  {
   "cell_type": "code",
   "execution_count": null,
   "metadata": {
    "collapsed": true
   },
   "outputs": [],
   "source": [
    "try:\n",
    "    import docplex.cp\n",
    "except:\n",
    "    !pip install docplex"
   ]
  },
  {
   "cell_type": "markdown",
   "metadata": {},
   "source": [
    "Note that the more global package <i>docplex</i> contains another subpackage <i>docplex.mp</i> that is dedicated to Mathematical Programming, another branch of optimization."
   ]
  },
  {
   "cell_type": "markdown",
   "metadata": {},
   "source": [
    "Now, we need to import all required modeling functions that are provided by the <i>docplex.cp</i> package:"
   ]
  },
  {
   "cell_type": "code",
   "execution_count": null,
   "metadata": {
    "collapsed": true
   },
   "outputs": [],
   "source": [
    "# Import Constraint Programming modelization functions\n",
    "from docplex.cp.model import *"
   ]
  },
  {
   "cell_type": "markdown",
   "metadata": {},
   "source": [
    "<h4>Define model input data</h4>\n",
    "<p>\n",
    "The first thing to define is the model input data.\n",
    "In the case of the Golomb Ruler problem, there is only one input which is the order of the ruler, that is the number of marks:"
   ]
  },
  {
   "cell_type": "code",
   "execution_count": null,
   "metadata": {
    "collapsed": true
   },
   "outputs": [],
   "source": [
    "# Define required number of marks on the ruler\n",
    "ORDER = 7"
   ]
  },
  {
   "cell_type": "markdown",
   "metadata": {},
   "source": [
    "<h4>Create the model container</h4>\n",
    "<p>\n",
    "The model is represented by a Python object that is filled with the different model elements (variables, constraints, objective function, etc). The first thing to do is then to create such an object:"
   ]
  },
  {
   "cell_type": "code",
   "execution_count": null,
   "metadata": {
    "collapsed": true
   },
   "outputs": [],
   "source": [
    "# Create model object\n",
    "mdl = CpoModel()"
   ]
  },
  {
   "cell_type": "markdown",
   "metadata": {},
   "source": [
    "<h4>Define model variables</h4>\n",
    "<p>\n",
    "Now, we need to define the variables of the problem. As the expected problem result is the list of mark positions, the simplest choice is to create one integer variable to represent the position of each mark on the ruler.\n",
    "<p>\n",
    "Each variable has a a set of possible values called his <i>domain</i>. To reduce the search space, it is important to reduce this domain as far as possible.\n",
    "<p>\n",
    "In our case, we can naively estimate that the maximum distance between two adjacent marks is the order of the ruler minus one. Then the maximal position of a mark is (ORDER - 1)². Each variable domain is then limited to an interval [0..(ORDER - 1)²].\n",
    "<p>\n",
    "A list of integer variables can be defined using method <i>integer_var_list()</i>. In our case, defining one variable for each mark can be created as follows:"
   ]
  },
  {
   "cell_type": "code",
   "execution_count": null,
   "metadata": {
    "collapsed": true
   },
   "outputs": [],
   "source": [
    "# Create array of variables corresponding to rule marks\n",
    "marks = integer_var_list(ORDER, 0, (ORDER - 1) ** 2, \"M\")"
   ]
  },
  {
   "cell_type": "markdown",
   "metadata": {},
   "source": [
    "<h4>Define model constraints</h4>\n",
    "<p>\n",
    "We need to express that all possible distances between two marks must be different. To do this, we create an array that contains all these distances:"
   ]
  },
  {
   "cell_type": "code",
   "execution_count": null,
   "metadata": {
    "collapsed": false
   },
   "outputs": [],
   "source": [
    "# Create an array with all distances between all marks\n",
    "dist = [marks[i] - marks[j] for i in range(1, ORDER) for j in range(0, i)]"
   ]
  },
  {
   "cell_type": "markdown",
   "metadata": {},
   "source": [
    "We have used here the operator '-' to express the difference between variables. It may appear strange as the variables are not instanciated at that time, but the Python operator has been overloaded to construct a CP expression instead of attempting to compute the arithmetic difference. All other standard Python operators can be used to make operations between CP objects (<, >, <=, >=, ==, !=, +, -, /, *, &, |, //, **,  ...). Have a look to documentation for details.\n",
    "<p>\n",
    "To force all these distances to be different, we use the special <i>all_diff()</i> constraint as follows:"
   ]
  },
  {
   "cell_type": "code",
   "execution_count": null,
   "metadata": {
    "collapsed": true
   },
   "outputs": [],
   "source": [
    "# Force all distances to be different\n",
    "mdl.add(all_diff(dist))"
   ]
  },
  {
   "cell_type": "markdown",
   "metadata": {},
   "source": [
    "The call <i>mdl.add(...)</i> is necessary to express that the constraint must be added to the model."
   ]
  },
  {
   "cell_type": "markdown",
   "metadata": {},
   "source": [
    "<h4>Remove symmetries</h4>\n",
    "<p>\n",
    "The constraint we have expressed above is theoritically enough, and the model can be solved as it is.\n",
    "<p>\n",
    "However, it does not differentiate between all possible permutations of the different mark positions that are solutions to the problem, for example, 0-1-4-6, 4-6-1-0, 6-0-1-4, etc. As they are ORDER! (factorial of ORDER) such permutations, the search space would be drastically reduced by removing them.\n",
    "<p>\n",
    "We can do that by forcing an order between marks, for example the order of their index:"
   ]
  },
  {
   "cell_type": "code",
   "execution_count": null,
   "metadata": {
    "collapsed": false
   },
   "outputs": [],
   "source": [
    "# Avoid symmetric solutions by ordering marks\n",
    "for i in range(1, ORDER):\n",
    "    mdl.add(marks[i] > marks[i - 1])"
   ]
  },
  {
   "cell_type": "markdown",
   "metadata": {},
   "source": [
    "We also know that first mark is at the beginning of the rule:"
   ]
  },
  {
   "cell_type": "code",
   "execution_count": null,
   "metadata": {
    "collapsed": true
   },
   "outputs": [],
   "source": [
    "# Force first mark position to zero\n",
    "mdl.add(marks[0] == 0)"
   ]
  },
  {
   "cell_type": "markdown",
   "metadata": {},
   "source": [
    "<h4>Avoid mirror solutions</h4>\n",
    "<p>\n",
    "Each optimal solution has a mirror, with all mark distances in the reverse order, for example, 01--4-6 and 0-2--56. \n",
    "The following constraint can be added to avoid this: "
   ]
  },
  {
   "cell_type": "code",
   "execution_count": null,
   "metadata": {
    "collapsed": true
   },
   "outputs": [],
   "source": [
    "# Avoid mirror solution\n",
    "mdl.add((marks[1] - marks[0]) < (marks[ORDER - 1] - marks[ORDER - 2]))"
   ]
  },
  {
   "cell_type": "markdown",
   "metadata": {},
   "source": [
    "<h4>Define objective</h4>\n",
    "<p>\n",
    "Finally, we want to get the shortest Golomb Ruler. This can be expressed by minimizing the position of the last mark.\n",
    "As we have ordered the marks, we can do this using:"
   ]
  },
  {
   "cell_type": "code",
   "execution_count": null,
   "metadata": {
    "collapsed": true
   },
   "outputs": [],
   "source": [
    "# Minimize ruler size\n",
    "mdl.add(minimize(marks[ORDER - 1]))"
   ]
  },
  {
   "cell_type": "markdown",
   "metadata": {},
   "source": [
    "If the marks were not ordered, we should have use instead:<br>\n",
    "<code>   mdl.add(minimize(max(marks)))</code><br>"
   ]
  },
  {
   "cell_type": "markdown",
   "metadata": {},
   "source": [
    "<h3>Solve the model</h3>\n",
    "<p>\n",
    "The model is now completely defined. It is time to solve it !\n",
    "<p>\n",
    "To use the CP Optimizer solver available on the IBM Decision Optimization on Cloud service:\n",
    "<ul>\n",
    "<li> Register for the DOcloud free trial and use it free for 30 days by using https://developer.ibm.com/docloud/try-docloud-free\n",
    "<li> Get your access credentials (base URL and access key) by going this page: http://developer.ibm.com/docloud/docs/api-key/\n",
    "</ul>\n",
    "<p>\n"
   ]
  },
  {
   "cell_type": "code",
   "execution_count": null,
   "metadata": {
    "collapsed": true
   },
   "outputs": [],
   "source": [
    "# Initialize IBM Decision Optimization credentials\n",
    "SVC_URL = \"https://api-oaas.docloud.ibmcloud.com/job_manager/rest/v1/\"\n",
    "SVC_KEY = \"ENTER YOUR KEY HERE\""
   ]
  },
  {
   "cell_type": "markdown",
   "metadata": {},
   "source": [
    "The model can be solved by calling:"
   ]
  },
  {
   "cell_type": "code",
   "execution_count": null,
   "metadata": {
    "collapsed": false
   },
   "outputs": [],
   "source": [
    "# Solve the model\n",
    "print(\"Solving model....\")\n",
    "msol = mdl.solve(url=SVC_URL, key=SVC_KEY)"
   ]
  },
  {
   "cell_type": "markdown",
   "metadata": {},
   "source": [
    "<h4>Print the solution</h4>\n",
    "<p>\n",
    "The shortest way to output the solution that has been found by the solver is to call the method <i>print_solution()</i> as follows:"
   ]
  },
  {
   "cell_type": "code",
   "execution_count": null,
   "metadata": {
    "collapsed": false
   },
   "outputs": [],
   "source": [
    "# Print solution\n",
    "print(\"Solution: \")\n",
    "msol.print_solution()"
   ]
  },
  {
   "cell_type": "markdown",
   "metadata": {},
   "source": [
    "This output is totally generic and simply prints the value of all model variables, the objective value, and some other solving information.\n",
    "<p>\n",
    "A more specific output can be generated by writing more code. The following example illustrates how to access specific elements of the solution. "
   ]
  },
  {
   "cell_type": "code",
   "execution_count": null,
   "metadata": {
    "collapsed": false
   },
   "outputs": [],
   "source": [
    "# Print solution\n",
    "from sys import stdout\n",
    "if msol:\n",
    "    # Print found solution\n",
    "    stdout.write(\"Solution: \" + msol.get_solve_status() + \"\\n\")\n",
    "    stdout.write(\"Position of ruler marks: \")\n",
    "    for v in marks:\n",
    "        stdout.write(\" \" + str(msol[v]))\n",
    "    stdout.write(\"\\n\")\n",
    "    stdout.write(\"Solve time: \" + str(round(msol.get_solve_time(), 2)) + \"s\\n\")\n",
    "else:\n",
    "    # No solution found\n",
    "    stdout.write(\"No solution found. Search status: \" + msol.get_solve_status() + \"\\n\")"
   ]
  },
  {
   "cell_type": "markdown",
   "metadata": {},
   "source": [
    "Another possibility is for example to simulate real ruler using characters, as follows:"
   ]
  },
  {
   "cell_type": "code",
   "execution_count": null,
   "metadata": {
    "collapsed": false
   },
   "outputs": [],
   "source": [
    "# Print solution as a ruler\n",
    "if msol:\n",
    "    stdout.write(\"Ruler: +\")\n",
    "    for i in range(1, ORDER):\n",
    "        stdout.write('-' * (msol[marks[i]] - msol[marks[i - 1]] - 1) + '+')\n",
    "    stdout.write(\"\\n\")"
   ]
  },
  {
   "cell_type": "markdown",
   "metadata": {},
   "source": [
    "<h3>Going further with Constraint Programming</h3>\n",
    "<p>\n",
    "The last available installable package is available on Pypi here: https://pypi.python.org/pypi/docplex\n",
    "<p>\n",
    "Downloadable documentation is here: https://github.com/IBMDecisionOptimization/docplex-doc, and an inline version is available here:  http://rawgit.com/IBMDecisionOptimization/docplex-doc/master/docs/index.html\n",
    "<p>\n",
    "A complete set of modeling examples can be downloaded here: https://github.com/IBMDecisionOptimization/docplex-examples  "
   ]
  }
 ],
 "metadata": {
  "kernelspec": {
   "display_name": "Python 2",
   "language": "python",
   "name": "python2"
  },
  "language_info": {
   "codemirror_mode": {
    "name": "ipython",
    "version": 2
   },
   "file_extension": ".py",
   "mimetype": "text/x-python",
   "name": "python",
   "nbconvert_exporter": "python",
   "pygments_lexer": "ipython2",
   "version": "2.7.10"
  }
 },
 "nbformat": 4,
 "nbformat_minor": 0
}
