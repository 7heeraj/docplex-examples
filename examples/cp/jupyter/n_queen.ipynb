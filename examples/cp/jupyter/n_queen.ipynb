{
 "cells": [
  {
   "cell_type": "markdown",
   "metadata": {
    "collapsed": true
   },
   "source": [
    "# <center><font color = 'blue'> The eight queens puzzle"
   ]
  },
  {
   "cell_type": "markdown",
   "metadata": {
    "collapsed": true
   },
   "source": [
    "The eight queens puzzle is the problem of placing eight chess queens on an 8x8\n",
    "chessboard so that no two queens threaten each other. Thus, a solution requires\n",
    "that no two queens share the same row, column, or diagonal.\n",
    "\n",
    "The eight queens puzzle is an example of the more general n-queens problem of\n",
    "placing n queens on an nxn chessboard, where solutions exist for all natural\n",
    "numbers n with the exception of n=2 and n=3."
   ]
  },
  {
   "cell_type": "markdown",
   "metadata": {},
   "source": [
    "## References\n",
    "* https://en.wikipedia.org/wiki/Eight_queens_puzzle"
   ]
  },
  {
   "cell_type": "code",
   "execution_count": null,
   "metadata": {
    "collapsed": false
   },
   "outputs": [],
   "source": [
    "try:\n",
    "    import docplex.cp\n",
    "except:\n",
    "    !pip install docplex"
   ]
  },
  {
   "cell_type": "code",
   "execution_count": null,
   "metadata": {
    "collapsed": true
   },
   "outputs": [],
   "source": [
    "from docplex.cp.model import *\n",
    "from sys import stdout"
   ]
  },
  {
   "cell_type": "markdown",
   "metadata": {},
   "source": [
    "## Create model"
   ]
  },
  {
   "cell_type": "markdown",
   "metadata": {},
   "source": [
    "Set model parameter"
   ]
  },
  {
   "cell_type": "code",
   "execution_count": null,
   "metadata": {
    "collapsed": true
   },
   "outputs": [],
   "source": [
    "NB_QUEEN = 8"
   ]
  },
  {
   "cell_type": "markdown",
   "metadata": {},
   "source": [
    "Create CPO model"
   ]
  },
  {
   "cell_type": "code",
   "execution_count": null,
   "metadata": {
    "collapsed": true
   },
   "outputs": [],
   "source": [
    "mdl = CpoModel()"
   ]
  },
  {
   "cell_type": "code",
   "execution_count": null,
   "metadata": {
    "collapsed": true
   },
   "outputs": [],
   "source": [
    "# Create column index of each queen\n",
    "x = integer_var_list(NB_QUEEN, 0, NB_QUEEN - 1, \"X\")\n",
    "\n",
    "# One queen per raw\n",
    "mdl.add(all_diff(x))\n",
    "\n",
    "# One queen per diagonal xi - xj != i - j\n",
    "mdl.add(all_diff(x[i] + i for i in range(NB_QUEEN)))\n",
    "\n",
    "# One queen per diagonal xi - xj != j - i\n",
    "mdl.add(all_diff(x[i] - i for i in range(NB_QUEEN)))"
   ]
  },
  {
   "cell_type": "markdown",
   "metadata": {},
   "source": [
    "## Solve model"
   ]
  },
  {
   "cell_type": "markdown",
   "metadata": {},
   "source": [
    "__Set your DOcloud credentials:__\n",
    "0. A first option is to set the DOcloud url and key directly in the model source file *(see below)*\n",
    "1. For a persistent setting, create a Python file __docloud_config.py__ somewhere that is visible from the __PYTHONPATH__"
   ]
  },
  {
   "cell_type": "code",
   "execution_count": null,
   "metadata": {
    "collapsed": false
   },
   "outputs": [],
   "source": [
    "print(\"\\nSolving model....\")\n",
    "msol = mdl.solve(url=\"https://api-oaas.docloud.ibmcloud.com/job_manager/rest/v1/\", \n",
    "                 key=\"ENTER YOUR KEY HERE\")"
   ]
  },
  {
   "cell_type": "markdown",
   "metadata": {},
   "source": [
    "## Display solution"
   ]
  },
  {
   "cell_type": "markdown",
   "metadata": {},
   "source": [
    "Import required external libraries (numpy and matplotlib)"
   ]
  },
  {
   "cell_type": "code",
   "execution_count": null,
   "metadata": {
    "collapsed": true
   },
   "outputs": [],
   "source": [
    "try:\n",
    "    import numpy as np\n",
    "    import matplotlib.pyplot as plt\n",
    "    VISU_ENABLED = True\n",
    "except ImportError:\n",
    "    VISU_ENABLED = False"
   ]
  },
  {
   "cell_type": "code",
   "execution_count": null,
   "metadata": {
    "collapsed": true
   },
   "outputs": [],
   "source": [
    "def display(sol):\n",
    "    %matplotlib inline\n",
    "    \n",
    "    chess_board = np.zeros((NB_QUEEN, NB_QUEEN, 3))\n",
    "    black = 0.5\n",
    "    white = 1\n",
    "    for l in range(8):\n",
    "        for c in range(8):\n",
    "            if (l%2 == c%2):\n",
    "                col = white\n",
    "            else:\n",
    "                col = black\n",
    "            chess_board[l,c,::]=col\n",
    "\n",
    "    fig, ax = plt.subplots()\n",
    "    ax.imshow(chess_board, interpolation='none')\n",
    "    wq_im_file = \"./n_queen_utils/WQueen.png\"\n",
    "    bq_im_file = \"./n_queen_utils/BQueen.png\"\n",
    "    wq = plt.imread(wq_im_file)\n",
    "    bq = plt.imread(bq_im_file)\n",
    "    for y, x in enumerate(sol):\n",
    "        if (x%2 == y%2):\n",
    "            queen = bq\n",
    "        else:\n",
    "            queen = wq \n",
    "        ax.imshow(queen, extent=[x-0.4, x+0.4, y-0.4, y+0.4])\n",
    "    ax.set(xticks=[], yticks=[])\n",
    "    ax.axis('image')\n",
    "    plt.show()"
   ]
  },
  {
   "cell_type": "code",
   "execution_count": null,
   "metadata": {
    "collapsed": false,
    "scrolled": true
   },
   "outputs": [],
   "source": [
    "if msol: \n",
    "    stdout.write(\"Solution:\")\n",
    "    sol = [msol[v] for v in x]\n",
    "    for v in range(NB_QUEEN):\n",
    "        stdout.write(\" \" + str(sol[v]))\n",
    "    stdout.write(\"\\n\")\n",
    "    stdout.write(\"Solve time: \" + str(msol.get_solve_time()) + \"\\n\")\n",
    "    if VISU_ENABLED:\n",
    "        display(sol)\n",
    "else:\n",
    "    stdout.write(\"No solution found\\n\")"
   ]
  }
 ],
 "metadata": {
  "kernelspec": {
   "display_name": "Python 2",
   "language": "python",
   "name": "python2"
  },
  "language_info": {
   "codemirror_mode": {
    "name": "ipython",
    "version": 2
   },
   "file_extension": ".py",
   "mimetype": "text/x-python",
   "name": "python",
   "nbconvert_exporter": "python",
   "pygments_lexer": "ipython2",
   "version": "2.7.10"
  }
 },
 "nbformat": 4,
 "nbformat_minor": 0
}
