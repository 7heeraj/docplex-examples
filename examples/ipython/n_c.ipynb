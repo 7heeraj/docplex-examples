{
 "cells": [
  {
   "cell_type": "markdown",
   "metadata": {},
   "source": [
    "# Noughts and crosses"
   ]
  },
  {
   "cell_type": "markdown",
   "metadata": {},
   "source": [
    "Given a Tic Tac Toe grid in 3 dimension that we want to fill with 14 white balls and 13 black balls.\n",
    "This N&C model consist on finding the best combinaison of the 14 white balls to have the minimum number of white straight lines.\n",
    " "
   ]
  },
  {
   "cell_type": "code",
   "execution_count": null,
   "metadata": {
    "collapsed": false
   },
   "outputs": [],
   "source": [
    "!pip install docplex==0.0.24"
   ]
  },
  {
   "cell_type": "code",
   "execution_count": null,
   "metadata": {
    "collapsed": true
   },
   "outputs": [],
   "source": [
    "from docplex.mp.model import Model"
   ]
  },
  {
   "cell_type": "markdown",
   "metadata": {},
   "source": [
    "Firstly we create the 49 lines and the 27 cells of our cube."
   ]
  },
  {
   "cell_type": "code",
   "execution_count": null,
   "metadata": {
    "collapsed": true
   },
   "outputs": [],
   "source": [
    "r =range(1,4)\n",
    "\n",
    "cell= [(r1,r2,r3) for r1 in r for r2 in r for r3 in r]\n",
    "\n",
    "lines=[]\n",
    "\n",
    "\n",
    "for x in [(x1, y1, z1, x2, y2, z2, x3, y3, z3) for x1 in r for x2 in r for x3 in r for y1 in r for y2 in r for y3 in r for z1 in r for z2 in r for z3 in r if (x2-x1==x3-x2) if (y2-y1==y3-y2) if (z2-z1==z3-z2) if (9*x1+3*y1+z1<9*x3+3*y3+z3) ]:\n",
    "    lines.append(x)\n",
    "\n",
    "assert len(lines)==49;"
   ]
  },
  {
   "cell_type": "code",
   "execution_count": null,
   "metadata": {
    "collapsed": false
   },
   "outputs": [],
   "source": [
    "from docplex.mp.environment import Environment\n",
    "env = Environment()\n",
    "env.print_information()"
   ]
  },
  {
   "cell_type": "markdown",
   "metadata": {},
   "source": [
    "We now create our model and solve it"
   ]
  },
  {
   "cell_type": "code",
   "execution_count": null,
   "metadata": {
    "collapsed": true
   },
   "outputs": [],
   "source": [
    "from docplex.mp.context import DOcloudContext\n",
    "context = DOcloudContext(url=\"PUT_YOUR_DOCLOUD_URL_HERE\", \n",
    "                         api_key=\"PUT_YOUR_DOCLOUD_KEY_HERE\")"
   ]
  },
  {
   "cell_type": "code",
   "execution_count": null,
   "metadata": {
    "collapsed": false
   },
   "outputs": [],
   "source": [
    "mdl = Model(docloud_context=context)\n",
    "\n",
    "lines_monocolor = mdl.binary_var_dict(lines, name=\"is_monocolor\")\n",
    "\n",
    "cell_dict=  mdl.binary_var_dict(cell, name=\"is_cell\")\n",
    "\n",
    "\n",
    "for l in lines:\n",
    "    ind1 = mdl.add_indicator(lines_monocolor[l], cell_dict[l[0],l[1],l[2]]+ cell_dict[l[3],l[4],l[5]]+cell_dict[l[6],l[7],l[8]] >=1 , active_value=0 )\n",
    "    \n",
    "    ind2 = mdl.add_indicator(lines_monocolor[l], cell_dict[l[0],l[1],l[2]]+ cell_dict[l[3],l[4],l[5]]+cell_dict[l[6],l[7],l[8]] <=2 , active_value=0 )\n",
    "\n",
    "mdl.add_constraint(mdl.sum(cell_dict[h]  for h in cell) == 14)\n",
    "\n",
    "\n",
    "mdl.print_information()\n",
    "\n",
    "mdl.minimize(mdl.sum(lines_monocolor[l] for l in lines))\n",
    "\n",
    "ok = mdl.solve()\n",
    "\n",
    "if not ok:   \n",
    "     print(\"N&C model fails\")\n",
    "else:\n",
    "     mdl.print_solution()"
   ]
  },
  {
   "cell_type": "code",
   "execution_count": null,
   "metadata": {
    "collapsed": true
   },
   "outputs": [],
   "source": [
    "env = mdl.environment"
   ]
  },
  {
   "cell_type": "code",
   "execution_count": null,
   "metadata": {
    "collapsed": false
   },
   "outputs": [],
   "source": [
    "# Print of the solution\n",
    "print (\"##############Diff print##############\")\n",
    "monocolor_lines_position = []\n",
    "for l in lines:\n",
    "    monocolor_lines_position.append( int(float(lines_monocolor[l])))\n",
    "\n",
    "print(monocolor_lines_position)\n",
    "\n",
    "game_cells = []\n",
    "for l in cell:\n",
    "    game_cells.append(float(cell_dict[l]))\n",
    "\n",
    "if env.has_numpy:\n",
    "    import numpy as np\n",
    "    game_cells = np.reshape(game_cells, (-1,3))\n",
    "else:\n",
    "    ii = len(game_cells) // 3\n",
    "    game_cells2 = [[0 for j in range(0, 3)] for i in range(0, ii)]\n",
    "    for i in range(0, ii):\n",
    "        for j in range(0, 3):\n",
    "            game_cells2[i][j] = game_cells[i * 3 + j]\n",
    "    game_cells = game_cells2\n",
    "\n",
    "print(game_cells)\n",
    "\n",
    "print (\"total lines :{0!s} \" .format(int(mdl.objective_value)) )"
   ]
  },
  {
   "cell_type": "markdown",
   "metadata": {},
   "source": [
    "We represent the results on a 3d grid"
   ]
  },
  {
   "cell_type": "code",
   "execution_count": null,
   "metadata": {
    "collapsed": true
   },
   "outputs": [],
   "source": [
    "monocolor_lines_points = []\n",
    "for l in lines:\n",
    "    if float(lines_monocolor[l]) != 0: \n",
    "        monocolor_lines_points.append( l)\n",
    "\n",
    "\n",
    "k2=5   # Space the graph\n",
    "k1=k2/2\n",
    "\n",
    "xs=[]\n",
    "ys=[]\n",
    "zs=[]\n",
    "VecStart_xs = []\n",
    "VecStart_ys = []\n",
    "VecStart_zs = []\n",
    "\n",
    "VecEnd_xs = []\n",
    "VecEnd_ys = []\n",
    "VecEnd_zs  =[]\n",
    "\n",
    "for i in range(len(monocolor_lines_points)):\n",
    "        xs.append(monocolor_lines_points[i][0])\n",
    "        VecStart_xs.append(monocolor_lines_points[i][0])\n",
    "        ys.append(monocolor_lines_points[i][1])\n",
    "        VecStart_ys.append(monocolor_lines_points[i][1])\n",
    "        \n",
    "        if monocolor_lines_points[i][2] == 1:\n",
    "            zs.append(monocolor_lines_points[i][2])\n",
    "            VecStart_zs.append(monocolor_lines_points[i][2])\n",
    "        elif monocolor_lines_points[i][2] == 2:\n",
    "            zs.append(k1+monocolor_lines_points[i][2])\n",
    "            VecStart_zs.append(k1+monocolor_lines_points[i][2])\n",
    "        else :\n",
    "            zs.append(k2+monocolor_lines_points[i][2])\n",
    "            VecStart_zs.append(k2+monocolor_lines_points[i][2])\n",
    "            \n",
    "        xs.append(monocolor_lines_points[i][3])\n",
    "        ys.append(monocolor_lines_points[i][4])\n",
    "        \n",
    "        if monocolor_lines_points[i][5] == 1:\n",
    "            zs.append(monocolor_lines_points[i][5])\n",
    "        elif monocolor_lines_points[i][5] == 2:\n",
    "            zs.append(k1+monocolor_lines_points[i][5])\n",
    "        else :\n",
    "            zs.append(k2+monocolor_lines_points[i][5])\n",
    "            \n",
    "        \n",
    "        xs.append(monocolor_lines_points[i][6])\n",
    "        VecEnd_xs.append(monocolor_lines_points[i][6])\n",
    "        ys.append(monocolor_lines_points[i][7])\n",
    "        VecEnd_ys.append(monocolor_lines_points[i][7])\n",
    "        \n",
    "        if monocolor_lines_points[i][8] == 1:\n",
    "            zs.append(monocolor_lines_points[i][8])\n",
    "            VecEnd_zs.append(monocolor_lines_points[i][8])\n",
    "        elif monocolor_lines_points[i][8] ==2:\n",
    "            VecEnd_zs.append(k1+monocolor_lines_points[i][8])\n",
    "            zs.append(k1+monocolor_lines_points[i][8])\n",
    "        else :\n",
    "            zs.append(k2+monocolor_lines_points[i][8])\n",
    "            VecEnd_zs.append(k2+monocolor_lines_points[i][8])"
   ]
  },
  {
   "cell_type": "markdown",
   "metadata": {},
   "source": [
    "You can uncomment the 3rd line if you want an inline graphic and not a pop up"
   ]
  },
  {
   "cell_type": "code",
   "execution_count": null,
   "metadata": {
    "collapsed": true
   },
   "outputs": [],
   "source": [
    "if env.has_matplotlib:\n",
    "    from mpl_toolkits.mplot3d import Axes3D\n",
    "    import matplotlib.pyplot as plt\n",
    "    %matplotlib inline"
   ]
  },
  {
   "cell_type": "code",
   "execution_count": null,
   "metadata": {
    "collapsed": false
   },
   "outputs": [],
   "source": [
    "if env.has_matplotlib:\n",
    "    fig = plt.figure()\n",
    "    ax = fig.add_subplot(111, projection='3d')\n",
    "\n",
    "    ax.scatter(xs, ys, zs, c='r', marker='o', s=100)    \n",
    "\n",
    "    x1=[3,3,1.5,2.5,3,3,1.5,2.5,3,3,1.5,2.5]\n",
    "    y1=[1.5,2.5,1,1,1.5,2.5,1,1,1.5,2.5,1,1]\n",
    "    z1=[3+k2,3+k2,3+k2,3+k2,2+k1,2+k1,2+k1,2+k1,1,1,1,1]\n",
    "\n",
    "    x2=[1,1,1.5,2.5,1,1,1.5,2.5,1,1,1.5,2.5]\n",
    "    y2=[1.5,2.5,3,3,1.5,2.5,3,3,1.5,2.5,3,3]\n",
    "    z2=[3+k2,3+k2,3+k2,3+k2,2+k1,2+k1,2+k1,2+k1,1,1,1,1]\n",
    "\n",
    "    for i in range(len(x1)):\n",
    "\n",
    "        VecStart_x = [x1[i]]\n",
    "        VecStart_y = [y1[i]]\n",
    "        VecStart_z = [z1[i]]\n",
    "\n",
    "        VecEnd_x = [x2[i]]\n",
    "        VecEnd_y = [y2[i]]\n",
    "        VecEnd_z  =[z2[i]]\n",
    "\n",
    "        ax.plot(VecStart_x + VecEnd_x, VecStart_y + VecEnd_y, VecStart_z +VecEnd_z, c='b')\n",
    "\n",
    "    for i in range(len(VecStart_xs)):\n",
    "\n",
    "        VecStart_x = [VecStart_xs[i]]\n",
    "        VecStart_y = [VecStart_ys[i]]\n",
    "        VecStart_z = [VecStart_zs[i]]\n",
    "\n",
    "        VecEnd_x = [VecEnd_xs[i]]\n",
    "        VecEnd_y = [VecEnd_ys[i]]\n",
    "        VecEnd_z  =[VecEnd_zs[i]]\n",
    "\n",
    "        ax.plot(VecStart_x + VecEnd_x, VecStart_y + VecEnd_y, VecStart_z +VecEnd_z, c='r')\n",
    "\n",
    "\n",
    "    ax.set_xlabel('X Label')\n",
    "    ax.set_ylabel('Y Label')\n",
    "    ax.set_zlabel('Z Label')\n",
    "\n",
    "    plt.show()"
   ]
  }
 ],
 "metadata": {
  "kernelspec": {
   "display_name": "Python 2",
   "language": "python",
   "name": "python2"
  },
  "language_info": {
   "codemirror_mode": {
    "name": "ipython",
    "version": 2
   },
   "file_extension": ".py",
   "mimetype": "text/x-python",
   "name": "python",
   "nbconvert_exporter": "python",
   "pygments_lexer": "ipython2",
   "version": "2.7.6"
  }
 },
 "nbformat": 4,
 "nbformat_minor": 0
}
