{
 "cells": [
  {
   "cell_type": "markdown",
   "metadata": {},
   "source": []
  },
  {
   "cell_type": "markdown",
   "metadata": {},
   "source": [
    "# Matchmaker"
   ]
  },
  {
   "cell_type": "markdown",
   "metadata": {},
   "source": [
    "The Matchmaker was an honored profession in past cultures, serving the valuable purpose of pairing off men and women in hopes of a long and successful relationship.  The Matchmaker would carefully consider the characteristics of each partner to determine which pairs would be compatible.\n",
    "\n",
    "Figure 1 shows six men and six women each with varying hair color and eye color.  A man or woman will only accept a partner that has at least one of these traits in common.  For example, Man A and Woman 5 would make a matching pair because they have at least one trait in common (same hair color).  However Man A and Woman 1 would not make a matching pair because they do not have any traits in common.\n",
    "\n",
    "Question:  What pairings of men and women allow for everyone to have a partner with at least one trait in common?  (There are several correct answers.)\n",
    "\n",
    "### References\n",
    "\n",
    " * The PuzzlOr - Matchmaker (http://puzzlor.com/2011-06_Matchmaker.html) ."
   ]
  },
  {
   "cell_type": "markdown",
   "metadata": {},
   "source": [
    "<center>\n",
    "<img src=\"http://puzzlor.com/images/2011-06%20Matchmaker_v3.gif\">   \n",
    "</center>"
   ]
  },
  {
   "cell_type": "markdown",
   "metadata": {},
   "source": [
    "We begin with importing the library we going to use"
   ]
  },
  {
   "cell_type": "code",
   "execution_count": null,
   "metadata": {
    "collapsed": false
   },
   "outputs": [],
   "source": [
    "!pip install docplex==0.0.24"
   ]
  },
  {
   "cell_type": "code",
   "execution_count": null,
   "metadata": {
    "collapsed": true
   },
   "outputs": [],
   "source": [
    "from docplex.mp.model import Model"
   ]
  },
  {
   "cell_type": "markdown",
   "metadata": {},
   "source": [
    "Let's define now our man's and women's characteristics"
   ]
  },
  {
   "cell_type": "code",
   "execution_count": null,
   "metadata": {
    "collapsed": true
   },
   "outputs": [],
   "source": [
    "color_hair = ['green','red','black'] # all the color of hair\n",
    "color_eyes= ['green','bleu','red']   # all the color of eyes\n",
    "\n",
    "man = {'A':[2,1],'B':[1,2],'C':[1,3],'D':[2,1],'E':[3,1],'F':[1,2]}\n",
    "female = {'1':[1,3],'2':[2,1],'3':[3,2],'4':[3,3],'5':[2,3],'6':[3,3]}"
   ]
  },
  {
   "cell_type": "markdown",
   "metadata": {},
   "source": [
    "Let's define now some useful variable for our model"
   ]
  },
  {
   "cell_type": "code",
   "execution_count": null,
   "metadata": {
    "collapsed": true
   },
   "outputs": [],
   "source": [
    "#matrix of all the combinaison between a man and women\n",
    "Comb = [['A1','A2','A3','A4','A5','A6'],\n",
    "        ['B1','B2','B3','B4','B5','B6'],\n",
    "        ['C1','C2','C3','C4','C5','C6'],\n",
    "        ['D1','D2','D3','D4','D5','D6'],\n",
    "        ['E1','E2','E3','E4','E5','E6'],\n",
    "        ['F1','F2','F3','F4','F5','F6']]\n",
    "\n",
    "#transpose the matrix below\n",
    "tComb = [[Comb[j][i] for j in range(0, 6)] for i in range(0, 6)]\n",
    "\n",
    "#Matrix comb in other form\n",
    "Comb2 = ['A1','A2','A3','A4','A5','A6',\n",
    "        'B1','B2','B3','B4','B5','B6',\n",
    "        'C1','C2','C3','C4','C5','C6',\n",
    "        'D1','D2','D3','D4','D5','D6',\n",
    "        'E1','E2','E3','E4','E5','E6',\n",
    "        'F1','F2','F3','F4','F5','F6']\n",
    "\n",
    "#Function test_match that test if a man and women match toghether\n",
    "def test_match(a):\n",
    "    m = a[0]\n",
    "    f = a[1]\n",
    "    return int(man[m][0]==female[f][0]) + int( (man[m][1]==female[f][1]))"
   ]
  },
  {
   "cell_type": "markdown",
   "metadata": {},
   "source": [
    "Now let's define our model and solve it"
   ]
  },
  {
   "cell_type": "code",
   "execution_count": null,
   "metadata": {
    "collapsed": false
   },
   "outputs": [],
   "source": [
    "from docplex.mp.environment import Environment\n",
    "env = Environment()\n",
    "env.print_information()"
   ]
  },
  {
   "cell_type": "code",
   "execution_count": null,
   "metadata": {
    "collapsed": true
   },
   "outputs": [],
   "source": [
    "from docplex.mp.context import DOcloudContext\n",
    "context = DOcloudContext(url=\"PUT_YOUR_DOCLOUD_URL_HERE\", \n",
    "                         api_key=\"PUT_YOUR_DOCLOUD_KEY_HERE\")"
   ]
  },
  {
   "cell_type": "code",
   "execution_count": null,
   "metadata": {
    "collapsed": false
   },
   "outputs": [],
   "source": [
    "mdl = Model(docloud_context=context)\n",
    "\n",
    "Comb_vars = mdl.binary_var_dict(Comb2, name=\"is_match\")\n",
    "\n",
    "\n",
    "#contraint : every man have one women\n",
    "for i in Comb:\n",
    "    mdl.add_constraint(mdl.sum(Comb_vars[h] for h in i) <= 1)\n",
    "\n",
    "#contraint : every women to have one man\n",
    "for i in tComb:\n",
    "    mdl.add_constraint(mdl.sum(Comb_vars[h] for h in i) <= 1)\n",
    "    \n",
    "#contraint : a man have a women if they match\n",
    "for i in Comb:\n",
    "    mdl.add_constraint(mdl.sum(Comb_vars[h] * test_match(h) for h in i) >= 1)\n",
    "    \n",
    "#for h in Comb2:\n",
    "#    ind1 = mdl.add_indicator(Comb_vars[h],  Comb_vars[h] * test_match(h) >= 1 , active_value=1 )\n",
    "\n",
    "        \n",
    "# our objective is to find the maximum couples\n",
    "mdl.maximize(mdl.sum(Comb_vars[h]* test_match(h) for h in Comb2))\n",
    "\n",
    "#mdl.print_information()\n",
    "#mdl.prettyprint()\n",
    "\n",
    "ok = mdl.solve()\n",
    "\n",
    "mdl.print_solution()"
   ]
  },
  {
   "cell_type": "markdown",
   "metadata": {},
   "source": [
    "Let's add a nice print to our result"
   ]
  },
  {
   "cell_type": "code",
   "execution_count": null,
   "metadata": {
    "collapsed": false
   },
   "outputs": [],
   "source": [
    "if not ok:\n",
    "    print(\"Matchmaker model fails\")\n",
    "else:\n",
    "        total_points = mdl.objective_value\n",
    "        couples = [h for h in Comb2 if float(Comb_vars[h]) ==1]\n",
    "        print(\"we need to match thoses couples:\")\n",
    "        for i in couples:\n",
    "            print(\"the man {} with the women {}\" .format(i[0],i[1]))"
   ]
  }
 ],
 "metadata": {
  "kernelspec": {
   "display_name": "Python 2",
   "language": "python",
   "name": "python2"
  },
  "language_info": {
   "codemirror_mode": {
    "name": "ipython",
    "version": 2
   },
   "file_extension": ".py",
   "mimetype": "text/x-python",
   "name": "python",
   "nbconvert_exporter": "python",
   "pygments_lexer": "ipython2",
   "version": "2.7.6"
  }
 },
 "nbformat": 4,
 "nbformat_minor": 0
}
