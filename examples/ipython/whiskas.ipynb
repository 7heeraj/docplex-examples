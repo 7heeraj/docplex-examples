{
 "cells": [
  {
   "cell_type": "markdown",
   "metadata": {
    "render": true
   },
   "source": [
    "Whiskas cat food, shown above, is manufactured by Uncle Ben’s. Uncle Ben’s want to produce their cat food products as cheaply as possible while ensuring they meet the stated nutritional analysis requirements shown on the cans. Thus they want to vary the quantities of each ingredient used (the main ingredients being chicken, beef, mutton, rice, wheat and gel) while still meeting their nutritional standards.\n",
    "\n",
    "The costs of the chicken, beef, and mutton are $0.013, $0.008 and $0.010 respectively, while the costs of the rice, wheat and gel are $0.002, $0.005 and $0.001 respectively. (All costs are per gram.) For this exercise we will ignore the vitamin and mineral ingredients. (Any costs for these are likely to be very small anyway.)\n",
    "\n",
    "Each ingredient contributes to the total weight of protein, fat, fibre and salt in the final product. The contributions (in grams) per gram of ingredient are given in the table below.\n"
   ]
  },
  {
   "cell_type": "markdown",
   "metadata": {},
   "source": [
    "|Stuff\t|Costs | Protein\t|Fat\t|Fibre\t|Salt|\n",
    "|---|---|---|---|---|---|\n",
    "|Chicken\t|0.013 | 0.100\t|0.080\t|0.001\t|0.002|\n",
    "|Beef\t|0.008 | 0.200\t|0.100\t|0.005\t|0.005|\n",
    "|Rice\t|0.002| 0.000\t|0.010\t|0.100\t|0.002|\n",
    "|Wheat bran\t|0.005 | 0.040\t|0.010\t|0.150\t|0.008|\n",
    "| Mutton | 0.010| 0.15 | 0.110 | 0.003 | 0.007 |\n",
    "| Gel | 0.001| 0.010 | 0.007 | 0.02 | 0.01 |"
   ]
  },
  {
   "cell_type": "code",
   "execution_count": 1,
   "metadata": {
    "collapsed": false
   },
   "outputs": [],
   "source": [
    "\"\"\"\n",
    "The Full Whiskas Model Python Formulation for the PuLP Modeller\n",
    "\n",
    "Authors: Antony Phillips, Dr Stuart Mitchell  2007\n",
    "\"\"\"\n",
    "\n",
    "# Creates a list of the Ingredients\n",
    "ingredients = ['CHICKEN', 'BEEF', 'MUTTON', 'RICE', 'WHEAT', 'GEL']\n",
    "\n",
    "# dictionaries for the costs, protein level...\n",
    "costs = {'CHICKEN': 0.023, 'BEEF': 0.008, 'MUTTON': 0.010, 'RICE': 0.002, 'WHEAT': 0.005, 'GEL': 0.001}\n",
    "protein_percent = {'CHICKEN': 0.100, 'BEEF': 0.200, 'MUTTON': 0.150, 'RICE': 0.000, 'WHEAT': 0.040, 'GEL': 0.010}\n",
    "fat_percent = {'CHICKEN': 0.080, 'BEEF': 0.100, 'MUTTON': 0.110, 'RICE': 0.010, 'WHEAT': 0.010, 'GEL': 0.007}\n",
    "fibre_percent = {'CHICKEN': 0.001, 'BEEF': 0.005, 'MUTTON': 0.003, 'RICE': 0.100, 'WHEAT': 0.150, 'GEL': 0.2}\n",
    "salt_percent = {'CHICKEN': 0.002, 'BEEF': 0.005, 'MUTTON': 0.007, 'RICE': 0.002, 'WHEAT': 0.008, 'GEL': 0.01}"
   ]
  },
  {
   "cell_type": "code",
   "execution_count": 2,
   "metadata": {
    "collapsed": false
   },
   "outputs": [
    {
     "name": "stdout",
     "output_type": "stream",
     "text": [
      "Requirement already satisfied (use --upgrade to upgrade): docplex>=0.0.24 in c:\\anaconda3\\lib\\site-packages\n",
      "Requirement already satisfied (use --upgrade to upgrade): requests in c:\\anaconda3\\lib\\site-packages (from docplex>=0.0.24)\n",
      "Requirement already satisfied (use --upgrade to upgrade): six in c:\\anaconda3\\lib\\site-packages (from docplex>=0.0.24)\n",
      "Requirement already satisfied (use --upgrade to upgrade): docloud>=1.0.0 in c:\\anaconda3\\lib\\site-packages (from docplex>=0.0.24)\n"
     ]
    },
    {
     "name": "stderr",
     "output_type": "stream",
     "text": [
      "You are using pip version 7.0.3, however version 7.1.2 is available.\n",
      "You should consider upgrading via the 'python -m pip install --upgrade pip' command.\n"
     ]
    }
   ],
   "source": [
    "!pip install docplex"
   ]
  },
  {
   "cell_type": "code",
   "execution_count": 19,
   "metadata": {
    "collapsed": false
   },
   "outputs": [
    {
     "name": "stdout",
     "output_type": "stream",
     "text": [
      "* system is: Windows 64bit\n",
      "* CPLEX wrapper is present, version is 12.6.2.0, located at: C:\\ILOG\\CPLEX_Studio1262\\cplex\\python\\3.4\\x64_win64\n",
      "* Numpy is present, version is 1.9.2\n",
      "* Matplotlib is present, version is 1.4.3\n"
     ]
    }
   ],
   "source": [
    "from docplex.mp.environment import Environment\n",
    "env = Environment()\n",
    "env.print_information()"
   ]
  },
  {
   "cell_type": "code",
   "execution_count": 4,
   "metadata": {
    "collapsed": false
   },
   "outputs": [],
   "source": [
    "if env.has_matplotlib:\n",
    "    %matplotlib inline\n",
    "    import matplotlib.pyplot as plt\n",
    "\n",
    "def display(myDict, title):\n",
    "    if env.has_matplotlib:\n",
    "        N = len(myDict)\n",
    "        labels = []\n",
    "        values= []\n",
    "        for key, value in myDict.items():\n",
    "            labels.append(key)\n",
    "            values.append(value)\n",
    "\n",
    "        ind = range(N)  # the x locations for the groups\n",
    "        width = 0.35       # the width of the bars\n",
    "\n",
    "        fig, ax = plt.subplots()\n",
    "        rects1 = ax.bar(ind, values, width, color='r')\t\n",
    "        ax.set_title(title)\n",
    "        #ax.set_xticks(ind+width)\n",
    "        ax.set_xticklabels( labels )\t\n",
    "        #ax.legend( (rects1[0]), (title) )\n",
    "\n",
    "        plt.show()\n",
    "    else:\n",
    "        print(\"warning: no display\")"
   ]
  },
  {
   "cell_type": "code",
   "execution_count": 5,
   "metadata": {
    "collapsed": false,
    "render": true,
    "scrolled": true
   },
   "outputs": [
    {
     "data": {
      "image/png": "[encoded data removed]",
      "text/plain": [
       "<matplotlib.figure.Figure at 0x49ae438>"
      ]
     },
     "metadata": {},
     "output_type": "display_data"
    }
   ],
   "source": [
    "#for label, value in {\"costs\" : costs, \"proteins\" : protein_percent, \"fat\" : fat_percent, \"fibre\" : fibre_percent, \"salt\" : salt_percent}.iteritems():\n",
    "for label, value in {\"costs\" : costs}.items():\n",
    "    display(value, label)"
   ]
  },
  {
   "cell_type": "code",
   "execution_count": 6,
   "metadata": {
    "collapsed": false
   },
   "outputs": [],
   "source": [
    "from docplex.mp.context import DOcloudContext\n",
    "context = DOcloudContext(url=\"PUT_YOUR_DOCLOUD_URL_HERE\", \n",
    "                         api_key=\"PUT_YOUR_DOCLOUD_KEY_HERE\")"
   ]
  },
  {
   "cell_type": "code",
   "execution_count": 7,
   "metadata": {
    "collapsed": false
   },
   "outputs": [],
   "source": [
    "from docloud.status import JobSolveStatus\n",
    "from docplex.mp.model import Model"
   ]
  },
  {
   "cell_type": "code",
   "execution_count": 8,
   "metadata": {
    "collapsed": false
   },
   "outputs": [],
   "source": [
    "# Create the 'prob' variable to contain the problem data\n",
    "mdl = Model(\"The Whiskas Problem\", docloud_context=context)"
   ]
  },
  {
   "cell_type": "markdown",
   "metadata": {
    "render": false
   },
   "source": [
    "A dictionary called ingredient_vars is created which contains the LP variables, with their defined lower bound of zero. The reference keys to the dictionary are the Ingredient names, and the data is Ingr_IngredientName. (e.g. MUTTON: Ingr_MUTTON)"
   ]
  },
  {
   "cell_type": "code",
   "execution_count": 9,
   "metadata": {
    "collapsed": false
   },
   "outputs": [],
   "source": [
    "# A dictionary called 'ingredient_vars' is created to contain the referenced Variables\n",
    "ingredient_vars = dict((f , mdl.continuous_var(lb=0.0)) for f in ingredients)\n"
   ]
  },
  {
   "cell_type": "markdown",
   "metadata": {
    "render": false
   },
   "source": [
    "Since costs and ingredient_vars are now dictionaries with the reference keys as the Ingredient names, the data can be simply extracted with a list comprehension as shown. The lpSum() function will add the elements of the resulting list. Thus the objective function is simply entered and assigned a name:"
   ]
  },
  {
   "cell_type": "code",
   "execution_count": 10,
   "metadata": {
    "collapsed": false
   },
   "outputs": [
    {
     "data": {
      "text/plain": [
       "<docplex.mp.linear.BinaryLEConstraint at 0x8867c88>"
      ]
     },
     "execution_count": 10,
     "metadata": {},
     "output_type": "execute_result"
    }
   ],
   "source": [
    "# The objective function is added to 'prob' first\n",
    "mdl.minimize(mdl.sum(ingredient_vars[i]*costs[i] for i in ingredients))\n",
    "\n",
    "mdl.add_constraint(mdl.sum(ingredient_vars[i] for i in ingredients) == 100)\n",
    "mdl.add_constraint(mdl.sum(protein_percent[i] * ingredient_vars[i] for i in ingredients) >= 8.0)\n",
    "mdl.add_constraint(mdl.sum(fat_percent[i] * ingredient_vars[i] for i in ingredients) >= 6.0)\n",
    "mdl.add_constraint(mdl.sum(fibre_percent[i] * ingredient_vars[i] for i in ingredients) >= 2.0)\n",
    "mdl.add_constraint(mdl.sum(salt_percent[i] * ingredient_vars[i] for i in ingredients) <= 0.4)"
   ]
  },
  {
   "cell_type": "code",
   "execution_count": 11,
   "metadata": {
    "collapsed": false
   },
   "outputs": [
    {
     "name": "stdout",
     "output_type": "stream",
     "text": [
      "Model: The Whiskas Problem\n",
      " - number of variables: 6\n",
      " -   binary=0, integer=0, continuous=6\n",
      " - number of constraints: 5\n",
      " -   LE=1, EQ=1, GE=3, RNG=0\n",
      " - parameters : defaults\n"
     ]
    }
   ],
   "source": [
    "mdl.print_information()"
   ]
  },
  {
   "cell_type": "code",
   "execution_count": 12,
   "metadata": {
    "collapsed": false
   },
   "outputs": [
    {
     "data": {
      "text/plain": [
       "True"
      ]
     },
     "execution_count": 12,
     "metadata": {},
     "output_type": "execute_result"
    }
   ],
   "source": [
    "mdl.solve()"
   ]
  },
  {
   "cell_type": "markdown",
   "metadata": {},
   "source": [
    "The optimised objective function value is printed to the screen"
   ]
  },
  {
   "cell_type": "code",
   "execution_count": 13,
   "metadata": {
    "collapsed": false
   },
   "outputs": [
    {
     "name": "stdout",
     "output_type": "stream",
     "text": [
      "Total Cost of Ingredients per can = \n",
      "0.5300411522633744\n"
     ]
    }
   ],
   "source": [
    "print(\"Total Cost of Ingredients per can = \")\n",
    "print(mdl.objective_value)"
   ]
  },
  {
   "cell_type": "code",
   "execution_count": 14,
   "metadata": {
    "collapsed": false
   },
   "outputs": [
    {
     "name": "stdout",
     "output_type": "stream",
     "text": [
      "{'RICE': 40.192043895747595, 'BEEF': 55.692729766803836, 'GEL': 4.115226337448561}\n"
     ]
    }
   ],
   "source": [
    "Obj = mdl.objective_value\n",
    "Solution = { i : ingredient_vars[i].solution_value for i in ingredients if ingredient_vars[i].solution_value != 0.0}\n",
    "print(Solution)"
   ]
  },
  {
   "cell_type": "code",
   "execution_count": 16,
   "metadata": {
    "collapsed": false,
    "render": true
   },
   "outputs": [
    {
     "data": {
      "image/png": "[encoded data removed]",
      "text/plain": [
       "<matplotlib.figure.Figure at 0x8593b38>"
      ]
     },
     "metadata": {},
     "output_type": "display_data"
    }
   ],
   "source": [
    "if env.has_matplotlib:\n",
    "    from pylab import *\n",
    "\n",
    "    # make a square figure and axes\n",
    "    figure(1, figsize=(6,6))\n",
    "    ax = axes([0.1, 0.1, 0.8, 0.8])\n",
    "\n",
    "    # The slices will be ordered and plotted counter-clockwise.\n",
    "    labels = []\n",
    "    fracs = []\n",
    "    for key,value in Solution.items():\n",
    "        labels.append(key)\n",
    "        fracs.append(value)\n",
    "    #explode=(0.05, 0.05, 0.05, 0.05)\n",
    "\n",
    "    pie(fracs, labels=labels,\n",
    "                    autopct='%1.1f%%', shadow=True, startangle=90)\n",
    "                    # The default startangle is 0, which would start\n",
    "                    # the Frogs slice on the x-axis.  With startangle=90,\n",
    "                    # everything is rotated counter-clockwise by 90 degrees,\n",
    "                    # so the plotting starts on the positive y-axis.\n",
    "    mytitle = \"Mix to get a Can for a cost of \" + str(Obj)\n",
    "    title(mytitle, bbox={'facecolor':'0.8', 'pad':5})\n",
    "\n",
    "    show()"
   ]
  },
  {
   "cell_type": "code",
   "execution_count": null,
   "metadata": {
    "collapsed": true
   },
   "outputs": [],
   "source": []
  }
 ],
 "metadata": {
  "celltoolbar": "Dashboard",
  "kernelspec": {
   "display_name": "Python 2",
   "language": "python",
   "name": "python2"
  },
  "language_info": {
   "codemirror_mode": {
    "name": "ipython",
    "version": 2
   },
   "file_extension": ".py",
   "mimetype": "text/x-python",
   "name": "python",
   "nbconvert_exporter": "python",
   "pygments_lexer": "ipython2",
   "version": "2.7.8"
  }
 },
 "nbformat": 4,
 "nbformat_minor": 0
}
