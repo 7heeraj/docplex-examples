{
 "cells": [
  {
   "cell_type": "markdown",
   "metadata": {},
   "source": [
    "Whiskas cat food, shown above, is manufactured by Uncle Ben’s. Uncle Ben’s want to produce their cat food products as cheaply as possible while ensuring they meet the stated nutritional analysis requirements shown on the cans. Thus they want to vary the quantities of each ingredient used (the main ingredients being chicken, beef, mutton, rice, wheat and gel) while still meeting their nutritional standards.\n",
    "\n",
    "The costs of the chicken, beef, and mutton are \\$0.013, \\$0.008 and \\$0.010 respectively, while the costs of the rice, wheat and gel are \\$0.002, \\$0.005 and $0.001 respectively. (All costs are per gram.) For this exercise we will ignore the vitamin and mineral ingredients. (Any costs for these are likely to be very small anyway.)\n",
    "\n",
    "Each ingredient contributes to the total weight of protein, fat, fibre and salt in the final product. The contributions (in grams) per gram of ingredient are given in the table below.\n"
   ]
  },
  {
   "cell_type": "markdown",
   "metadata": {},
   "source": [
    "|Stuff\t|Costs | Protein\t|Fat\t|Fibre\t|Salt|\n",
    "|---|---|---|---|---|---|\n",
    "|Chicken\t|0.013 | 0.100\t|0.080\t|0.001\t|0.002|\n",
    "|Beef\t|0.008 | 0.200\t|0.100\t|0.005\t|0.005|\n",
    "|Rice\t|0.002| 0.000\t|0.010\t|0.100\t|0.002|\n",
    "|Wheat bran\t|0.005 | 0.040\t|0.010\t|0.150\t|0.008|\n",
    "| Mutton | 0.010| 0.15 | 0.110 | 0.003 | 0.007 |\n",
    "| Gel | 0.001| 0.010 | 0.007 | 0.02 | 0.01 |"
   ]
  },
  {
   "cell_type": "code",
   "execution_count": null,
   "metadata": {
    "collapsed": true
   },
   "outputs": [
    {
     "data": {
      "text/html": [
      ],
      "text/plain": [
      ]
     },
     "execution_count": null,
     "metadata": {},
     "output_type": "execute_result"
    }
   ],
   "source": [
    "\"\"\"\n",
    "The Full Whiskas Model Python Formulation for the PuLP Modeller\n",
    "\n",
    "Authors: Antony Phillips, Dr Stuart Mitchell  2007\n",
    "\"\"\"\n",
    "\n",
    "import pandas as pd\n",
    "from pandas import DataFrame\n",
    "\n",
    "\n",
    "# the list of ingredients Creates a list of the Ingredients\n",
    "ingredients = ['chicken', 'beef', 'mutton', 'rice', 'wheat', 'gel']\n",
    "\n",
    "# data is stored in a pandas dataframe, indexed by the ingredients\n",
    "pdf = DataFrame({\"cost\":    [   13,      8,   10,     2,     5,    1],\n",
    "                 \"protein\": [0.100, 0.200, 0.150, 0.000, 0.040,    0],\n",
    "                 \"fat\":     [0.080, 0.100, 0.110, 0.010, 0.010,    0],\n",
    "                 \"fiber\":   [0.001, 0.005, 0.003, 0.100, 0.150,    0],\n",
    "                 \"salt\":    [0.002, 0.005, 0.007, 0.002, 0.008, 0.003]},\n",
    "                index=ingredients)\n",
    "\n",
    "# print the dataframe as a table\n",
    "pdf"
   ]
  },
  {
   "cell_type": "code",
   "execution_count": null,
   "metadata": {
    "collapsed": false
   },
   "outputs": [],
   "source": [
    "try:\n",
    "    import docplex.mp\n",
    "except:\n",
    "    !pip install docplex"
   ]
  },
  {
   "cell_type": "code",
   "execution_count": null,
   "metadata": {
    "collapsed": true
   },
   "outputs": [
    {
     "name": "stdout",
     "output_type": "stream",
     "text": [
     ]
    }
   ],
   "source": [
    "from docplex.mp.environment import Environment\n",
    "env = Environment()\n",
    "env.print_information()"
   ]
  },
  {
   "cell_type": "code",
   "execution_count": null,
   "metadata": {
    "collapsed": true
   },
   "outputs": [],
   "source": [
    "if env.has_matplotlib:\n",
    "    %matplotlib inline\n",
    "    import matplotlib.pyplot as plt\n",
    "\n",
    "def display(values, labels, title):\n",
    "    if env.has_matplotlib:\n",
    "        N = len(values)\n",
    "\n",
    "        ind = range(N)  # the x locations for the groups\n",
    "        width = 0.35       # the width of the bars\n",
    "\n",
    "        fig, ax = plt.subplots()\n",
    "        rects1 = ax.bar(ind, values, width, color='r')\t\n",
    "        ax.set_title(title)\n",
    "        ax.set_xticks([ind[i] +width/2 for i in ind])\n",
    "        ax.set_xticklabels( labels )\t\n",
    "\n",
    "        plt.show()\n",
    "    else:\n",
    "        print(\"warning: no display\")"
   ]
  },
  {
   "cell_type": "code",
   "execution_count": null,
   "metadata": {
    "collapsed": true
   },
   "outputs": [
    {
     "data": {
     },
     "metadata": {},
     "output_type": "display_data"
    }
   ],
   "source": [
    "display(pdf[\"cost\"], ingredients, \"costs\")"
   ]
  },
  {
   "cell_type": "code",
   "execution_count": null,
   "metadata": {
    "collapsed": true
   },
   "outputs": [],
   "source": [
    "from docplex.mp.context import Context\n",
    "context = Context(url=\"PUT_YOUR_DOCLOUD_URL_HERE\", \n",
    "                  api_key=\"PUT_YOUR_DOCLOUD_KEY_HERE\")"
   ]
  },
  {
   "cell_type": "code",
   "execution_count": null,
   "metadata": {
    "collapsed": true
   },
   "outputs": [],
   "source": [
    "from docplex.mp.model import Model"
   ]
  },
  {
   "cell_type": "code",
   "execution_count": null,
   "metadata": {
    "collapsed": false
   },
   "outputs": [],
   "source": [
    "# Create the 'prob' variable to contain the problem data\n",
    "mdl = Model(\"The Whiskas Problem\", context=context, sort_expressions=True)"
   ]
  },
  {
   "cell_type": "markdown",
   "metadata": {},
   "source": [
    "A dictionary called ingredient_vars is created which contains the variables with bounds [0..100]. The reference keys to the dictionary are the ingredient names."
   ]
  },
  {
   "cell_type": "code",
   "execution_count": null,
   "metadata": {
    "collapsed": false
   },
   "outputs": [],
   "source": [
    "# A dictionary called 'ingredient_vars' is created to contain the referenced Variables\n",
    "# Here, variables are continuous, but you might change this to integer variables to state\n",
    "# that percentage values must be integers\n",
    "ingredient_vars = mdl.continuous_var_dict(keys=ingredients, lb=0.0, ub=100)"
   ]
  },
  {
   "cell_type": "markdown",
   "metadata": {},
   "source": [
    "Expressing constraints is straightforward using Python's arithmetic operators and pandas structures."
   ]
  },
  {
   "cell_type": "code",
   "execution_count": null,
   "metadata": {
    "collapsed": false
   },
   "outputs": [
    {
     "name": "stdout",
     "output_type": "stream",
     "text": [
     ]
    }
   ],
   "source": [
    "# The objective function is added to 'prob' first\n",
    "mdl.minimize(mdl.sum(ingredient_vars[i]*pdf.ix[i][\"cost\"] for i in ingredients))\n",
    "\n",
    "# all ingredients sum up to 100 %\n",
    "mdl.add_constraint(mdl.sum(ingredient_vars[i] for i in ingredients) == 100)\n",
    "# max protein\n",
    "mdl.add_constraint(mdl.sum(ingredient_vars[i] * pdf.ix[i][\"protein\"] for i in ingredients) >= 8.0)\n",
    "mdl.add_constraint(mdl.sum(ingredient_vars[i] * pdf.ix[i][\"fat\"] for i in ingredients) >= 6.0)\n",
    "mdl.add_constraint(mdl.sum(ingredient_vars[i] * pdf.ix[i][\"fiber\"] for i in ingredients) <= 2.0)\n",
    "mdl.add_constraint(mdl.sum(ingredient_vars[i] * pdf.ix[i][\"salt\"] for i in ingredients) <= 0.4)\n",
    "mdl.print_information()"
   ]
  },
  {
   "cell_type": "markdown",
   "metadata": {},
   "source": [
    "Now let's solve the model, when successful, solve() returns a SolveSolution object, else it returns None."
   ]
  },
  {
   "cell_type": "code",
   "execution_count": null,
   "metadata": {
    "collapsed": true
   },
   "outputs": [
    {
     "name": "stdout",
     "output_type": "stream",
     "text": [
     ]
    },
    {
     "name": "stderr",
     "output_type": "stream",
     "text": [
     ]
    }
   ],
   "source": [
    "sol = mdl.solve()\n",
    "if sol is None:\n",
    "    print(\"Problem has no solution\")\n",
    "else:\n",
    "    print(\"Problem solved successfully\")"
   ]
  },
  {
   "cell_type": "markdown",
   "metadata": {},
   "source": [
    "The optimised objective function value is printed to the screen"
   ]
  },
  {
   "cell_type": "code",
   "execution_count": null,
   "metadata": {
    "collapsed": true
   },
   "outputs": [
    {
     "name": "stdout",
     "output_type": "stream",
     "text": [
     ]
    }
   ],
   "source": [
    "print(\"Total Cost of Ingredients per can = {0:.4f}\".format(mdl.objective_value))"
   ]
  },
  {
   "cell_type": "markdown",
   "metadata": {},
   "source": [
    "The solution object as returned by solve() can be printed to show the values of variables\n",
    "in the optimal solution. All variables with value zero are not printed."
   ]
  },
  {
   "cell_type": "code",
   "execution_count": null,
   "metadata": {
    "collapsed": true
   },
   "outputs": [
    {
     "name": "stdout",
     "output_type": "stream",
     "text": [
     ]
    }
   ],
   "source": [
    "print(sol)"
   ]
  },
  {
   "cell_type": "markdown",
   "metadata": {},
   "source": [
    "As the variables represent percentages, we display solution values in a pie chart. This code requires the **matplotlib** module."
   ]
  },
  {
   "cell_type": "code",
   "execution_count": null,
   "metadata": {
    "collapsed": true
   },
   "outputs": [
    {
     "data": {
      "image/png": [
      ],
      "text/plain": [
      ]
     },
     "metadata": {},
     "output_type": "display_data"
    }
   ],
   "source": [
    "if env.has_matplotlib:\n",
    "    from pylab import *\n",
    "\n",
    "    # make a square figure and axes\n",
    "    figure(1, figsize=(6,6))\n",
    "    ax = axes([0.1, 0.1, 0.8, 0.8])\n",
    "\n",
    "    # we collect only nonzero percentage to avoid cluttering the diagram\n",
    "    labels = []\n",
    "    fracs = []\n",
    "    for i in ingredients:\n",
    "        frac = ingredient_vars[i].solution_value\n",
    "        if frac != 0:\n",
    "            labels.append(i)\n",
    "            fracs.append(frac)\n",
    "            \n",
    "    pie(fracs, labels=labels,\n",
    "        autopct='%1.1f%%', shadow=False, startangle=90,\n",
    "        colors = ['Tan', 'LightGreen', 'LightBlue', \"plum\"])\n",
    "                    # The default startangle is 0, which would start\n",
    "                    # the Frogs slice on the x-axis.  With startangle=90,\n",
    "                    # everything is rotated counter-clockwise by 90 degrees,\n",
    "                    # so the plotting starts on the positive y-axis.\n",
    "    mytitle = \"Mix to get a Can for a cost of {:.4f}\".format(mdl.objective_value)\n",
    "    title(mytitle, bbox={'facecolor':'0.8', 'pad':5})\n",
    "\n",
    "    show()"
   ]
  },
  {
   "cell_type": "markdown",
   "metadata": {
    "collapsed": true
   },
   "source": [
    "After solve, we can insert the percentage found in the pandas frame:"
   ]
  },
  {
   "cell_type": "code",
   "execution_count": null,
   "metadata": {
    "collapsed": true
   },
   "outputs": [
    {
     "data": {
      "text/html": [
      ],
      "text/plain": [
      ]
     },
     "execution_count": null,
     "metadata": {},
     "output_type": "execute_result"
    }
   ],
   "source": [
    "pdf[\"percentage\"] = [float(ingredient_vars[i]) for i in ingredients]\n",
    "\n",
    "# print the updated dataframe with percentage solutions\n",
    "pdf"
   ]
  },
  {
   "cell_type": "code",
   "execution_count": null,
   "metadata": {
    "collapsed": true
   },
   "outputs": [],
   "source": []
  }
 ],
 "metadata": {
  "celltoolbar": "Dashboard",
  "kernelspec": {
   "display_name": "Python 2",
   "language": "python",
   "name": "python2"
  },
  "language_info": {
   "codemirror_mode": {
    "name": "ipython",
    "version": 2
   },
   "file_extension": ".py",
   "mimetype": "text/x-python",
   "name": "python",
   "nbconvert_exporter": "python",
   "pygments_lexer": "ipython2",
   "version": "2.7.9"
  }
 },
 "nbformat": 4,
 "nbformat_minor": 0
}
