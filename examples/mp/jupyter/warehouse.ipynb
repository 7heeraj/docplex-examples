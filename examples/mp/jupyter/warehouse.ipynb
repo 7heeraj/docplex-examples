{
 "cells": [
  {
   "cell_type": "markdown",
   "metadata": {},
   "source": [
    "# The Warehouse Problem\n",
    "\n",
    "The Warehouse Problem is a well-know optimization case found in many textbooks.\n",
    "The problem consists, given a set of candidate warehouse *locations* and a set of *stores*\n",
    "to decide which warehouse to open and which warehouse will server which store.\n",
    "\n",
    "## Input Data\n",
    "\n",
    "Data is provided as follows:\n",
    "\n",
    "* For each warehouse, we require a tuple (name, capacity, fixed-cost), where _name_ is the unique name of the warehouse, _capacity_ is the maximum number of stores it can supply and _fixed_cost_ is the cost incurred by opening the warehouse.\n",
    "* For each couple (warehouse, store) a _supply_cost_ which estimates the cost of supplying this store by this warehouse.\n",
    "\n",
    "A compact way of representing the data is a Python _dictionary_: for each warehouse tuple, list all supply costs for all stores.\n",
    "\n",
    "## Business Decisions\n",
    "\n",
    "The problem consists in deciding which warehouse will be open and for each store, by which warehouse it will be supplied.\n",
    "\n",
    "## Business Constraints\n",
    "\n",
    "Decisions must satisfy the following (simplified) business constraints:\n",
    "\n",
    "1. Unicity: each store is supplied by one unique warehouse\n",
    "2. A store can only be supplied by an _open_ warehouse\n",
    "3. Capacity: the number of stores supplied by a warehouse must be less than its capacity\n",
    "\n",
    "## Business Objective\n",
    "\n",
    "The goal is to minimize the total cost incurred by the decisions, which is made of two costs:\n",
    "\n",
    "* The *Total Opening Cost* is the sum of opening costs ranging over all open warehouses.\n",
    "* The *Total Supply Cost* is the sum of supply costs for all the chosen (warehouse, store) pairs\n"
   ]
  },
  {
   "cell_type": "markdown",
   "metadata": {},
   "source": [
    "To begin with, let's define a small warehouse dataset:"
   ]
  },
  {
   "cell_type": "code",
   "execution_count": null,
   "metadata": {
    "collapsed": false
   },
   "outputs": [],
   "source": [
    "WAREHOUSES = {\n",
    "    ('Bonn', 1, 20): [20, 28, 74, 2, 46, 42, 1, 10, 93, 47],\n",
    "    ('Bordeaux', 4, 35): [24, 27, 97, 55, 96, 22, 5, 73, 35, 65],\n",
    "    ('London', 2, 32): [11, 82, 71, 73, 59, 29, 73, 13, 63, 55],\n",
    "    ('Paris', 1, 37): [25, 83, 96, 69, 83, 67, 59, 43, 85, 71],\n",
    "    ('Rome', 2, 25): [30, 74, 70, 61, 54, 59, 56, 96, 46, 95],\n",
    "    ('Brussels', 2, 28): [30, 74, 70, 61, 34, 59, 56, 96, 46, 95]\n",
    "}\n",
    "\n",
    "print(WAREHOUSES)\n",
    "print(\"#candidate warehouses=%d\" % len(WAREHOUSES))\n",
    "print(\"#stores to supply=%d\" % len(list(WAREHOUSES.values())[0]))"
   ]
  },
  {
   "cell_type": "markdown",
   "metadata": {},
   "source": [
    "Each key in the dictionary is a tuple with three fields: the name (a string), the capacity (a positive integer) and the fixed cost (also positive).\n",
    "Each value is a list of length 10 (the number of stores to supply). the k^th element of the list being the supply cost from the warehouse to the k^th store. For example,\n",
    "\n",
    "* London warehouse can supply at most two stores\n",
    "* London warehouse has an opening cost of 30\n",
    "* The cost incurred by supplying the first store from London is 11"
   ]
  },
  {
   "cell_type": "markdown",
   "metadata": {},
   "source": [
    "## The math model"
   ]
  },
  {
   "cell_type": "markdown",
   "metadata": {},
   "source": [
    "## Solving with DOcplex"
   ]
  },
  {
   "cell_type": "markdown",
   "metadata": {},
   "source": [
    "Now let's solve this problem with DOcplex.\n",
    "First, we define named tuples to store information relative to warehouses and stores in a clear and convenient manner."
   ]
  },
  {
   "cell_type": "code",
   "execution_count": null,
   "metadata": {
    "collapsed": true
   },
   "outputs": [],
   "source": [
    "from collections import namedtuple\n",
    "\n",
    "class TWareHouse(namedtuple(\"TWarehouse1\", [\"id\", \"capacity\", \"fixed_cost\"])):\n",
    "    def __str__(self):\n",
    "        return self.id\n",
    "\n",
    "class TStore(namedtuple(\"TStore1\", [\"id\"])):\n",
    "    def __str__(self):\n",
    "        return 'store_%d' % self.id"
   ]
  },
  {
   "cell_type": "markdown",
   "metadata": {},
   "source": [
    "Second, we compute the set of warehouse and store tuples. The use of *itervalues* from the *six* module is a technicality to ensure portability across Python 2 and Python3.\n",
    "We chose to model stores by an integer range from 1 to nb_stores for convenience."
   ]
  },
  {
   "cell_type": "code",
   "execution_count": null,
   "metadata": {
    "collapsed": true
   },
   "outputs": [],
   "source": [
    "from six import itervalues\n",
    "\n",
    "nb_stores = 0 if not WAREHOUSES else len(next(itervalues(WAREHOUSES)))\n",
    "warehouses = [TWareHouse(*wrow) for wrow in WAREHOUSES.keys()]\n",
    "# we'll use the warehouses dictionary as a two-entry dictionary\n",
    "supply_costs = WAREHOUSES\n",
    "# we count stores from 1 to NSTORES included for convenience\n",
    "stores = [TStore(idx) for idx in range(1, nb_stores + 1)]"
   ]
  },
  {
   "cell_type": "markdown",
   "metadata": {},
   "source": [
    "## The model\n",
    "First we need one instance of model to store our modeling artefacts"
   ]
  },
  {
   "cell_type": "code",
   "execution_count": null,
   "metadata": {
    "collapsed": true
   },
   "outputs": [],
   "source": [
    "try:\n",
    "    import docplex.mp\n",
    "except:\n",
    "    !pip install docplex"
   ]
  },
  {
   "cell_type": "code",
   "execution_count": null,
   "metadata": {
    "collapsed": false
   },
   "outputs": [],
   "source": [
    "from docplex.mp.environment import Environment\n",
    "env = Environment()\n",
    "env.print_information()"
   ]
  },
  {
   "cell_type": "markdown",
   "metadata": {},
   "source": [
    "Enter your IBM Decision Optimization on cloud credentials:"
   ]
  },
  {
   "cell_type": "code",
   "execution_count": null,
   "metadata": {
    "collapsed": true
   },
   "outputs": [],
   "source": [
    "url = \"ENTER YOUR URL HERE\" \n",
    "key = \"ENTER YOUR KEY HERE\""
   ]
  },
  {
   "cell_type": "code",
   "execution_count": null,
   "metadata": {
    "collapsed": false
   },
   "outputs": [],
   "source": [
    "from docplex.mp.model import Model\n",
    "warehouse_model = Model()"
   ]
  },
  {
   "cell_type": "markdown",
   "metadata": {},
   "source": [
    "### Defining decision variables\n",
    "\n",
    "In DOcplex, decision variables are related to objects of the business model. In our case, we have two decisions to make: which warehouse is open and, for each store, from which warehouse is it supplied.\n",
    "\n",
    "First, we create one binary (yes/no) decision variable for each warehouse: the variable will be equal to 1 if and only if the warehouse is open.\n",
    "We use the **binary_var_dict** method of the model object to create a dictionary from warehouses to variables.\n",
    "The first argument states that keys of the dcitionary will be our warehouse objects;\n",
    "the second argument is a a simple string *'open', that is used to generate names for variables, by suffixing 'open' with the string representation of warehouse objects (in other terms the output of the **str()** Python function.\n",
    "This is the reason why we redefined the method **__str__** method of class TWarehouse in the beginning.\n"
   ]
  },
  {
   "cell_type": "code",
   "execution_count": null,
   "metadata": {
    "collapsed": true
   },
   "outputs": [],
   "source": [
    "open_vars = warehouse_model.binary_var_dict(keys=warehouses, name='open')"
   ]
  },
  {
   "cell_type": "markdown",
   "metadata": {},
   "source": [
    "Second, we define one binary variable for each __pair__ or (warehouse, store). This is done using the method\n",
    "**binary_var_matrix**; in this case keys to variables are all (warehouse, store) pairs.\n",
    "\n",
    "The naming scheme applies to both components of pairs,for example the variable deciding whether the London warehouse supplies store 1 will be named supply_London_store_1."
   ]
  },
  {
   "cell_type": "code",
   "execution_count": null,
   "metadata": {
    "collapsed": true
   },
   "outputs": [],
   "source": [
    "supply_vars = warehouse_model.binary_var_matrix(warehouses, stores, 'supply')"
   ]
  },
  {
   "cell_type": "markdown",
   "metadata": {},
   "source": [
    "At this step, we can check how many variables we have defined. as we have 5 warehouses and 10 stores, we expect to have defined 5\\*10 + 5 = 55 variables."
   ]
  },
  {
   "cell_type": "code",
   "execution_count": null,
   "metadata": {
    "collapsed": false
   },
   "outputs": [],
   "source": [
    "warehouse_model.print_information()"
   ]
  },
  {
   "cell_type": "markdown",
   "metadata": {},
   "source": [
    "As expected, we have not defined any constraints yet.\n",
    "\n",
    "## Defining constraints\n",
    "\n",
    "The first constraint states that each store is supplied by exactly one warehouse. In other terms, the sum of supply variables for a given store, ranging over all warehouses, must be equal to 1. \n",
    "Printing model information, we check that this code defines 10 constraints"
   ]
  },
  {
   "cell_type": "code",
   "execution_count": null,
   "metadata": {
    "collapsed": false
   },
   "outputs": [],
   "source": [
    "for s in stores:\n",
    "    warehouse_model.add_constraint(warehouse_model.sum(supply_vars[w, s] for w in warehouses) == 1)\n",
    "warehouse_model.print_information()"
   ]
  },
  {
   "cell_type": "markdown",
   "metadata": {},
   "source": [
    "The second constraints states that a store can be suppplied only by an open warehouse. To model this, we use a little trick of logic, converting this logical implication (w supplies s) => w is open into an inequality between binary variables, as in:"
   ]
  },
  {
   "cell_type": "code",
   "execution_count": null,
   "metadata": {
    "collapsed": true
   },
   "outputs": [],
   "source": [
    "for s in stores:\n",
    "    for w in warehouses: \n",
    "        warehouse_model.add_constraint(supply_vars[w, s] <= open_vars[w])"
   ]
  },
  {
   "cell_type": "markdown",
   "metadata": {},
   "source": [
    "whenever a supply var from warehouse __w__ equals one, its open variable will also be equal to one. Conversely, when the open variable is zero, all supply variable for this warehouse will be zero.\n",
    "This constraint does not prevent having an open warehouse supplying no stores.\n",
    "Though this could be taken care of by adding an extra constraint, this is not necessary\n",
    "as such cases will be automatically eliminated by searching for the minimal cost (see the objective section).\n"
   ]
  },
  {
   "cell_type": "markdown",
   "metadata": {},
   "source": [
    "The third constraint states the capacity limitation on each warehouse. Note the overloading of the logical operator **<=** to express the constraint."
   ]
  },
  {
   "cell_type": "code",
   "execution_count": null,
   "metadata": {
    "collapsed": true
   },
   "outputs": [],
   "source": [
    "for w in warehouses:\n",
    "    warehouse_model.add_constraint(warehouse_model.sum(supply_vars[w, s] for s in stores) <= w.capacity)"
   ]
  },
  {
   "cell_type": "markdown",
   "metadata": {},
   "source": [
    "At this point we can summarize the variables and constraint we have defined in the model."
   ]
  },
  {
   "cell_type": "code",
   "execution_count": null,
   "metadata": {
    "collapsed": false
   },
   "outputs": [],
   "source": [
    "warehouse_model.print_information()"
   ]
  },
  {
   "cell_type": "markdown",
   "metadata": {},
   "source": [
    "## Defining the Objective\n",
    "\n",
    "The objective is to minimize the total costs. There are two costs:\n",
    "\n",
    "* the opening cost which is incurred each time a warehouse is open\n",
    "* the supply cost which is incurred by the assignments of warehouses to stores\n",
    "\n",
    "We define two linear expressions to model these two costs and state that our objective is to minimize the sum."
   ]
  },
  {
   "cell_type": "code",
   "execution_count": null,
   "metadata": {
    "collapsed": true
   },
   "outputs": [],
   "source": [
    "total_opening_cost = warehouse_model.sum(open_vars[w] * w.fixed_cost for w in warehouses)\n",
    "total_opening_cost.name = \"Total Opening Cost\"\n",
    "\n",
    "def _get_supply_cost(warehouse, store):\n",
    "    ''' A nested function to return the supply costs from a warehouse and a store'''\n",
    "    return supply_costs[warehouse][store.id - 1]\n",
    "\n",
    "total_supply_cost = warehouse_model.sum([supply_vars[w,s] * _get_supply_cost(w, s) for w in warehouses for s in stores])\n",
    "total_supply_cost.name = \"Total Supply Cost\"\n",
    "\n",
    "warehouse_model.minimize(total_opening_cost + total_supply_cost)"
   ]
  },
  {
   "cell_type": "markdown",
   "metadata": {},
   "source": [
    "The model is now complete and we can solve it and get the final optimal objective\n",
    "\n",
    "## Solving the model"
   ]
  },
  {
   "cell_type": "code",
   "execution_count": null,
   "metadata": {
    "collapsed": false
   },
   "outputs": [],
   "source": [
    "ok = warehouse_model.solve(url=url, key=key)\n",
    "assert ok\n",
    "obj = warehouse_model.objective_value\n",
    "print(\"optimal objective is %g\" % obj)"
   ]
  },
  {
   "cell_type": "markdown",
   "metadata": {},
   "source": [
    "But there's more: we can precise the value of those two costs, by evaluating the value of the two expressions.\n",
    "Here we see that the opening cost is 140 and the supply cost is 293."
   ]
  },
  {
   "cell_type": "code",
   "execution_count": null,
   "metadata": {
    "collapsed": false
   },
   "outputs": [],
   "source": [
    "opening_cost_obj = total_opening_cost.solution_value\n",
    "supply_cost_obj = total_supply_cost.solution_value\n",
    "print(\"total opening cost=%g\" % opening_cost_obj)\n",
    "print(\"total supply cost=%g\" % supply_cost_obj)\n",
    "\n",
    "# store results for later on...\n",
    "results=[]\n",
    "results.append((opening_cost_obj, supply_cost_obj))"
   ]
  },
  {
   "cell_type": "markdown",
   "metadata": {},
   "source": [
    "## Displaying results\n",
    "\n",
    "We can leverage the graphic toolkit __maptplotlib__ to display the results. First, let's draw a pie chart of opening cost vs. supply costs to clearly see the respective impact of both costs."
   ]
  },
  {
   "cell_type": "code",
   "execution_count": null,
   "metadata": {
    "collapsed": false
   },
   "outputs": [],
   "source": [
    "if env.has_matplotlib:\n",
    "    import matplotlib.pyplot as plt\n",
    "    %matplotlib inline\n",
    "\n",
    "def display_costs(costs, labels, colors):\n",
    "    if env.has_matplotlib:\n",
    "        plt.axis(\"equal\")\n",
    "        plt.pie(costs, labels=labels, colors=colors, autopct=\"%1.1f%%\")\n",
    "        plt.show()\n",
    "    else:\n",
    "        print(\"warning: no display\")\n",
    "    \n",
    "display_costs(costs=[opening_cost_obj, supply_cost_obj], \n",
    "              labels=[\"Opening Costs\", \"Supply Costs\"], \n",
    "              colors=[\"gold\", \"lightBlue\"])"
   ]
  },
  {
   "cell_type": "markdown",
   "metadata": {},
   "source": [
    "We can also display the breakdown of supply costs per warehouse.\n",
    "First, compute the sum of supply cost values for each warehouse: we need to sum the actual supply cost from w to s\n",
    "for those pairs (w, s) whose variable is true (here we test the value to be >=0.9, testing equality to 1 would not\n",
    "be robust because of numerical precision issues)"
   ]
  },
  {
   "cell_type": "code",
   "execution_count": null,
   "metadata": {
    "collapsed": false
   },
   "outputs": [],
   "source": [
    "supply_cost_by_warehouse = [ sum(_get_supply_cost(w,s) for s in stores if supply_vars[w,s].solution_value >= 0.9) for w in warehouses]\n",
    "wh_labels = [w.id for w in warehouses]\n",
    "display_costs(supply_cost_by_warehouse, wh_labels, None)"
   ]
  },
  {
   "cell_type": "markdown",
   "metadata": {},
   "source": [
    "## Exploring the Pareto frontier\n",
    "\n",
    "remember we solved the model by minimizing the __sum__ of the two costs, getting an optimal solution\n",
    "with total cost of 383, with opening costs = 120 and supply costs = 263.\n",
    "\n",
    "In some cases, it might be intersting to wonder what is the absolute minimum of any of these two costs: what\n",
    "if we'd like to minimize opening costs __first__, and __then__ the supply cost (of course keeping the best opeing cost we obtained in first phase.\n",
    "\n",
    "This is very easy to achieve with DOcplex, using the \"solve\\_lexicographic\" method on the model.\n",
    "This method takes two arguments: the first one is a list of expressions, the second one a list of\n",
    "__senses__ (Minimize or Maximize), the default being to Minimize each expression.\n",
    "\n",
    "In this section we will explore hat happens when we minimize opening costs __then__ supply costs and conversely\n",
    "when we minimize supply costs and __then__ opening costs.\n",
    "\n",
    "#### Minimizing total opening cost and then total supply cost"
   ]
  },
  {
   "cell_type": "code",
   "execution_count": null,
   "metadata": {
    "collapsed": false
   },
   "outputs": [],
   "source": [
    "opening_first_then_supply = [ total_opening_cost, total_supply_cost]\n",
    "warehouse_model.solve_lexicographic(goals=opening_first_then_supply)\n",
    "\n",
    "opening1 = total_opening_cost.solution_value\n",
    "supply1 = total_supply_cost.solution_value\n",
    "results.append( (opening1, supply1))"
   ]
  },
  {
   "cell_type": "markdown",
   "metadata": {},
   "source": [
    "From this we can see that the model has sucessfully solved twice and that the absolute minimum of opening cost is 120,\n",
    "and for this value, the minimum supply cost is 263.\n",
    "Remember that in our first attempt we minimized the combined sum and obtained (120,263, but now we know 120 is the best we can achieve. The supply cost is now 352 , for a total combined cost of 472 which is indeed greater than the value of 433 we found when optimizing the combined sum.\n",
    "\n",
    "#### Minimizing total supply cost and then total opening cost\n",
    "\n",
    "Now let's do the reverse: minimize supply cost and then opening cost. What if the goal of minimizing total supply cost supersedes the second goal of optimizing total opening cost?\n",
    "The code is straightforward:"
   ]
  },
  {
   "cell_type": "code",
   "execution_count": null,
   "metadata": {
    "collapsed": false
   },
   "outputs": [],
   "source": [
    "supply_first_then_opening = [ total_supply_cost, total_opening_cost]\n",
    "warehouse_model.solve_lexicographic(goals=supply_first_then_opening)\n",
    "opening2 = total_opening_cost.solution_value\n",
    "supply2 = total_supply_cost.solution_value\n",
    "\n",
    "results.append( (opening2, supply2))"
   ]
  },
  {
   "cell_type": "markdown",
   "metadata": {},
   "source": [
    "Here, we obtain (152, 288), supply costs is down from 352 to 288 but opening cost raises from 120 to 150.\n",
    "We can check that the combined sum is 288+152 = 440, which is grater than the optimal of 433 we found at the beginning."
   ]
  },
  {
   "cell_type": "markdown",
   "metadata": {},
   "source": [
    "\n",
    "### Pareto Diagram\n",
    "\n",
    "We can plot these three points on a (opening, supply) plane:"
   ]
  },
  {
   "cell_type": "code",
   "execution_count": null,
   "metadata": {
    "collapsed": false
   },
   "outputs": [],
   "source": [
    "def display_pareto(res):\n",
    "    if env.has_matplotlib:\n",
    "        plt.cla()\n",
    "        plt.xlabel('Opening Costs')\n",
    "        plt.ylabel('Supply Costs')\n",
    "        colors = ['g', 'r', 'b']\n",
    "        markers = ['o', '<', '>']\n",
    "        nb_res = len(res)\n",
    "        pts = []\n",
    "        for i, r in enumerate(res):\n",
    "            opening, supply = r\n",
    "            p = plt.scatter(opening, supply, color=colors[i%3], s=50+10*i, marker=markers[i%3])\n",
    "            pts.append(p)\n",
    "        plt.legend(pts,\n",
    "               ('Sum', 'Opening_first', 'Supply_first'),\n",
    "               scatterpoints=1,\n",
    "               loc='best',\n",
    "               ncol=3,\n",
    "               fontsize=8)\n",
    "        plt.show()\n",
    "    else:\n",
    "        print(\"Warning: no display\")\n",
    "\n",
    "display_pareto(results)"
   ]
  }
 ],
 "metadata": {
  "kernelspec": {
   "display_name": "Python 2",
   "language": "python",
   "name": "python2"
  },
  "language_info": {
   "codemirror_mode": {
    "name": "ipython",
    "version": 2
   },
   "file_extension": ".py",
   "mimetype": "text/x-python",
   "name": "python",
   "nbconvert_exporter": "python",
   "pygments_lexer": "ipython2",
   "version": "2.7.11"
  }
 },
 "nbformat": 4,
 "nbformat_minor": 0
}
