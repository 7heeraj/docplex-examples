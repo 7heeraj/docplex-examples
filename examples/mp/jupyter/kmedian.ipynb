{
 "cells": [
  {
   "cell_type": "markdown",
   "metadata": {},
   "source": [
    "# The K-Median Problem\n",
    "\n",
    "The K-median problem deals with finding pseudo-centers in a cloud of points.\n",
    "\n",
    "For starters, let's generate a random set of points in the plane, with coordinates ranging from 1 to 100."
   ]
  },
  {
   "cell_type": "markdown",
   "metadata": {},
   "source": [
    "First things first, we specialize a namedtuple class to model 2D points:"
   ]
  },
  {
   "cell_type": "code",
   "execution_count": null,
   "metadata": {
    "collapsed": true
   },
   "outputs": [],
   "source": [
    "from collections import namedtuple\n",
    "\n",
    "class Point(namedtuple(\"TPoint\", [\"x\", \"y\"])):\n",
    "    def __str__(self):\n",
    "        return \"P<%g,%g>\" % (self.x, self.y)\n",
    "    def coords(self):\n",
    "        return (self.x, self.y)"
   ]
  },
  {
   "cell_type": "markdown",
   "metadata": {},
   "source": [
    "Now define the euclidean distance function between two points"
   ]
  },
  {
   "cell_type": "code",
   "execution_count": null,
   "metadata": {
    "collapsed": true
   },
   "outputs": [],
   "source": [
    "import math\n",
    "def euclidean_distance(p1, p2):\n",
    "    dx = p1.x - p2.x\n",
    "    dy = p1.y - p2.y\n",
    "    return math.sqrt(dx * dx + dy * dy)"
   ]
  },
  {
   "cell_type": "markdown",
   "metadata": {},
   "source": [
    "We will also need an auxiliary function to generate the distance matrix between points.\n",
    "For now, we'll use the Euclidean distance, but any distance in the plane will do."
   ]
  },
  {
   "cell_type": "code",
   "execution_count": null,
   "metadata": {
    "collapsed": true
   },
   "outputs": [],
   "source": [
    "def generate_matrix(points):\n",
    "    matrix = {(p, q): euclidean_distance(p, q) for p in points for q in points}\n",
    "    return matrix"
   ]
  },
  {
   "cell_type": "markdown",
   "metadata": {},
   "source": [
    "Now, inside this set of points, we want to choose some points, say C, which have a \"centric\" situation within\n",
    "the set. More precisely, we'd like to link any point to exactly one \"pseudo-center\" in such a way that the total distance from any point to its pseudo-center is minimal.\n",
    "If C=1 this is the classical barycenter of the set of points, but for greater values of C, this can become less intuitive.\n",
    "We need a small model to generate these pseudo-centers"
   ]
  },
  {
   "cell_type": "markdown",
   "metadata": {},
   "source": [
    "Let's install CPLEX for python library"
   ]
  },
  {
   "cell_type": "code",
   "execution_count": null,
   "metadata": {
    "collapsed": true
   },
   "outputs": [],
   "source": [
    "try:\n",
    "    import docplex.mp\n",
    "except:\n",
    "    !pip install docplex"
   ]
  },
  {
   "cell_type": "code",
   "execution_count": null,
   "metadata": {
    "collapsed": false
   },
   "outputs": [],
   "source": [
    "from docplex.mp.environment import Environment\n",
    "env = Environment()\n",
    "env.print_information()"
   ]
  },
  {
   "cell_type": "markdown",
   "metadata": {},
   "source": [
    "Enter your IBM Decision Optimization on cloud credentials:"
   ]
  },
  {
   "cell_type": "code",
   "execution_count": null,
   "metadata": {
    "collapsed": true
   },
   "outputs": [],
   "source": [
    "url = \"ENTER YOUR URL HERE\"\n",
    "key = \"ENTER YOUR KEY HERE\""
   ]
  },
  {
   "cell_type": "code",
   "execution_count": null,
   "metadata": {
    "collapsed": true
   },
   "outputs": [],
   "source": [
    "from docplex.mp.model import Model\n",
    "\n",
    "def build_kmedian1(points, distance_matrix, nb_hubs=1):\n",
    "    # any point is a potential hub\n",
    "    hubs = points\n",
    "\n",
    "    assert isinstance(distance_matrix, dict)\n",
    "    BIGDIST = 999999999\n",
    "    for h in hubs:\n",
    "        for p in points:\n",
    "            if (h, p) in distance_matrix:\n",
    "                assert distance_matrix[h, p] >= 0\n",
    "                if h == p:\n",
    "                    assert distance_matrix[h, p] == 0\n",
    "            elif (p, h) in distance_matrix:\n",
    "                distance_matrix[h, p] = distance_matrix[h, p]\n",
    "            else:\n",
    "                print(\"* forbidden arc {0} -> {1}\".format(h, p))\n",
    "\n",
    "    # now build the model\n",
    "    kmedian_name = \"Kmedian_p_{0}_h_{1}\".format(len(points), nb_hubs)\n",
    "    mdl = Model()\n",
    "    # vars\n",
    "    mdl.hub_vars = mdl.binary_var_dict(hubs, name=\"is_hub\")\n",
    "    mdl.link_vars = mdl.binary_var_matrix(hubs, points, name=\"link\")\n",
    "    # cts\n",
    "    # ct #1. each point can be linked only to an open hub\n",
    "    for p in points:\n",
    "        for h in hubs:\n",
    "            mdl.add_constraint(mdl.link_vars[h, p] <= mdl.hub_vars[h])\n",
    "\n",
    "    # zap arcs with \"infinite\" distance\n",
    "    for h in hubs:\n",
    "        for p in points:\n",
    "            if distance_matrix[h, p] >= BIGDIST:\n",
    "                mdl.add_constraint(mdl.link_vars[h, p] == 0)\n",
    "            elif p == h:\n",
    "                mdl.add_constraint(mdl.link_vars[h, p] == 0)\n",
    "\n",
    "\n",
    "    # ct #2 each non hub point is linked to exactly one hub.\n",
    "    for p in points:\n",
    "        mdl.add_constraint(mdl.sum(mdl.link_vars[h, p] for h in hubs) == 1 - mdl.hub_vars[p])\n",
    "\n",
    "    # ct #3 total nb of open hubs\n",
    "    mdl.add_constraint(mdl.sum(mdl.hub_vars[h] for h in hubs) == nb_hubs)\n",
    "\n",
    "    # minimize total distance from points to hubs\n",
    "    def get_dist(h, p):\n",
    "        return distance_matrix.get((h, p), BIGDIST)\n",
    "\n",
    "    total_distance = mdl.sum(mdl.link_vars[h, p] * get_dist(h, p) for h in hubs for p in points)\n",
    "    mdl.minimize(total_distance)\n",
    "    \n",
    "    return mdl"
   ]
  },
  {
   "cell_type": "code",
   "execution_count": null,
   "metadata": {
    "collapsed": true
   },
   "outputs": [],
   "source": [
    "def solve_kmedian1(points, distance_matrix, nb_hubs=1):\n",
    "    mdl = build_kmedian1(points, distance_matrix, nb_hubs)\n",
    "    # any point is a potential hub\n",
    "    hubs = points\n",
    "\n",
    "    ok = mdl.solve(url=url, key=key)\n",
    "    if not ok:\n",
    "        print(\"Kmedian model fails\")\n",
    "        return None\n",
    "    else:\n",
    "        total_distance = mdl.objective_value\n",
    "        open_hubs = [h for h in hubs if mdl.hub_vars[h].solution_value == 1]\n",
    "        edges = [(p, h) for p in points for h in hubs if mdl.link_vars[p, h].solution_value == 1]\n",
    "        # returning a tuple\n",
    "        print(\"total distance=%g\" % total_distance)\n",
    "        print(\"#hubs={0}\".format(len(open_hubs)))\n",
    "        for h in open_hubs:\n",
    "            # h is an index\n",
    "            print(\"--hub: {0!s}\".format(h))\n",
    "\n",
    "        res = total_distance, open_hubs, edges\n",
    "        return res"
   ]
  },
  {
   "cell_type": "markdown",
   "metadata": {},
   "source": [
    "Now let's try the algorithm on a simple topology with three points as a triangle, and one point at the center of gravity of the triangle. Of course, we expect the hub to be at the center of gravity of the triangle."
   ]
  },
  {
   "cell_type": "code",
   "execution_count": null,
   "metadata": {
    "collapsed": false
   },
   "outputs": [],
   "source": [
    "simple_points = [ Point(0,0), Point(10,0), Point(5, 10), Point(5,5)]\n",
    "simple_matrix = {(p, q): euclidean_distance(p, q) for p in simple_points for q in simple_points}\n",
    "\n",
    "simple_res = solve_kmedian1(points=simple_points, distance_matrix=simple_matrix, nb_hubs=1)"
   ]
  },
  {
   "cell_type": "markdown",
   "metadata": {},
   "source": [
    "Define a function to plot the result, that is the initial points, the hubs found by the algorithms, and the edges."
   ]
  },
  {
   "cell_type": "code",
   "execution_count": null,
   "metadata": {
    "collapsed": true
   },
   "outputs": [],
   "source": [
    "if env.has_matplotlib:\n",
    "    import matplotlib.pyplot as plt\n",
    "    %matplotlib inline\n",
    "\n",
    "def plot_kmedian(points, hubs, edges):\n",
    "    if env.has_matplotlib:\n",
    "        plt.cla()\n",
    "        pxs = [p.x for p in points]\n",
    "        pys = [p.y for p in points]\n",
    "        plt.scatter(pxs, pys, c=\"yellow\", marker='o')\n",
    "        hxs = [h.x for h in hubs]\n",
    "        hys = [h.y for h in hubs]\n",
    "        plt.scatter(hxs, hys, c=\"blue\", marker='v', s=100)\n",
    "\n",
    "        edge_xs = []\n",
    "        edge_ys = []\n",
    "        for (pe, he) in edges:\n",
    "            edge_xs.append(pe.x)\n",
    "            edge_xs.append(he.x)\n",
    "            edge_xs.append(None)\n",
    "            edge_ys.append(pe.y)\n",
    "            edge_ys.append(he.y)\n",
    "            edge_ys.append(None)\n",
    "        plt.plot(edge_xs, edge_ys)\n",
    "        plt.show()\n",
    "    else:\n",
    "        print(\"warning: no display\")"
   ]
  },
  {
   "cell_type": "markdown",
   "metadata": {},
   "source": [
    "Let's try to plot the result of the simple topology:"
   ]
  },
  {
   "cell_type": "code",
   "execution_count": null,
   "metadata": {
    "collapsed": false
   },
   "outputs": [],
   "source": [
    "(simple_distance, simple_hubs, simple_edges) = simple_res\n",
    "print(\"hubs=%s\" % str(simple_hubs))\n",
    "print(\"simple=%s\" % simple_points)\n",
    "print(\"edges=%s\" % str(simple_edges))\n",
    "\n",
    "plot_kmedian(simple_points, simple_hubs, simple_edges)"
   ]
  },
  {
   "cell_type": "markdown",
   "metadata": {},
   "source": [
    "The hub is indeed at the center of gravity. \n",
    "Now let's try with a random set of points set in the upper right quadrant [0..100]"
   ]
  },
  {
   "cell_type": "code",
   "execution_count": null,
   "metadata": {
    "collapsed": true
   },
   "outputs": [],
   "source": [
    "import random\n",
    "\n",
    "def generate_random_points(nb_points, grid_size=100):\n",
    "    xs = [random.randint(0, grid_size) for _ in range(nb_points)]\n",
    "    ys = [random.randint(0, grid_size) for _ in range(nb_points)]\n",
    "    return set([Point(x, y) for (x, y) in zip(xs, ys)])\n",
    "\n",
    "rand_points = generate_random_points(nb_points=100, grid_size=100)"
   ]
  },
  {
   "cell_type": "code",
   "execution_count": null,
   "metadata": {
    "collapsed": false
   },
   "outputs": [],
   "source": [
    "# now generate the matrix\n",
    "rand_matrix = generate_matrix(rand_points)\n",
    "\n",
    "# and solve the kmedian problem looking for two centers this time\n",
    "(rand_distance, rand_hubs, rand_edges) = solve_kmedian1(rand_points, rand_matrix, nb_hubs=3)\n",
    "plot_kmedian(rand_points, rand_hubs, rand_edges)"
   ]
  },
  {
   "cell_type": "markdown",
   "metadata": {},
   "source": [
    "## Electrifying Example"
   ]
  },
  {
   "cell_type": "markdown",
   "metadata": {},
   "source": [
    "A new city is being built which will include 20 distinct neighborhoods as shown by the house icons in the map.  As part of the planning process, electricity needs to be connected to each of the neighborhoods.\n",
    "\n",
    "The city has been allocated funds to put in 3 electrical substations to service the electrical needs of the neighborhoods.  The substations are represented by the 3 electrical box icons to the right of the map.  Because laying electrical line to each neighborhood is expensive, the placement of the substations on the map requires careful consideration. \n",
    "\n",
    "A neighborhood will be serviced by the nearest electrical substation.  A neighborhood may only be connected to one substation.  The substations may be placed in any cell (including the same cell as an existing neighborhood).  The cost of electrical wiring is 1M dolar per km.  Distances are measured using a direct line between cells, which are each 1km apart.  For example, the distance between cell A1 and B2 is 1.41km.\n",
    "\n",
    "\n",
    "Question: What is the minimum cost required to connect all neighborhoods to electricity?\n",
    "\n",
    "### References\n",
    "\n",
    " * The PuzzlOr - Electrifying (http://puzzlor.com/2014-12_Electrifying.html) .\n"
   ]
  },
  {
   "cell_type": "markdown",
   "metadata": {},
   "source": [
    "<center>\n",
    "<img src=\"http://puzzlor.com/images/NeighborhoodMap.gif\">   \n",
    "</center>"
   ]
  },
  {
   "cell_type": "markdown",
   "metadata": {},
   "source": [
    "Let's begin with defining the points of our map that we want to connect"
   ]
  },
  {
   "cell_type": "code",
   "execution_count": null,
   "metadata": {
    "collapsed": true
   },
   "outputs": [],
   "source": [
    "rand_points = set([Point(x=2,y=2),Point(x=2,y=5),Point(x=3,y=6),Point(x=3,y=8),Point(x=4,y=2),Point(x=4,y=10),Point(x=5,y=2),Point(x=5,y=3),Point(x=5,y=6),Point(x=5,y=8),Point(x=6,y=1),Point(x=6,y=5),Point(x=7,y=2),Point(x=7,y=8),Point(x=8,y=5),Point(x=8,y=7),Point(x=8,y=8),Point(x=9,y=4),Point(x=9,y=7),Point(x=10,y=3)])"
   ]
  },
  {
   "cell_type": "markdown",
   "metadata": {},
   "source": [
    "Let's now resolve the problem"
   ]
  },
  {
   "cell_type": "code",
   "execution_count": null,
   "metadata": {
    "collapsed": false
   },
   "outputs": [],
   "source": [
    "# now generate the matrix\n",
    "rand_matrix = generate_matrix(rand_points)\n",
    "\n",
    "# and solve the kmedian problem looking for tree centers this time\n",
    "(rand_distance, rand_hubs, rand_edges) = solve_kmedian1(rand_points, rand_matrix, nb_hubs=3)\n",
    "plot_kmedian(rand_points, rand_hubs, rand_edges)"
   ]
  },
  {
   "cell_type": "markdown",
   "metadata": {},
   "source": []
  }
 ],
 "metadata": {
  "kernelspec": {
   "display_name": "Python 2",
   "language": "python",
   "name": "python2"
  },
  "language_info": {
   "codemirror_mode": {
    "name": "ipython",
    "version": 2
   },
   "file_extension": ".py",
   "mimetype": "text/x-python",
   "name": "python",
   "nbconvert_exporter": "python",
   "pygments_lexer": "ipython2",
   "version": "2.7.11"
  }
 },
 "nbformat": 4,
 "nbformat_minor": 0
}
