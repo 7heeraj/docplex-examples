{
 "cells": [
  {
   "cell_type": "markdown",
   "metadata": {},
   "source": [
    "# Writing efficient DOcplex code\n",
    "\n",
    "In this notebook, we show how to improve efficiency of DOcplex models using five simple rules.\n",
    "\n",
    ">This notebook is part of **[Prescriptive Analytics for Python](http://ibmdecisionoptimization.github.io/docplex-doc/)**\n",
    ">\n",
    ">It requires either an [installation of CPLEX Optimizers](http://ibmdecisionoptimization.github.io/docplex-doc/getting_started.html) or it can be run on [IBM Watson Studio Cloud](https://www.ibm.com/cloud/watson-studio/>) (Sign up for a [free IBM Cloud account](https://dataplatform.cloud.ibm.com/registration/stepone?context=wdp&apps=all>)\n",
    "and you can start using Watson Studio Cloud right away)."
   ]
  },
  {
   "cell_type": "markdown",
   "metadata": {},
   "source": [
    "## A simple timing tool\n",
    "\n",
    "To measure performance we need a simple timing tool. For this purpose, we chose to implement a Python context manager object (see https://docs.python.org/3/reference/datamodel.html#context-managers) for details.\n",
    "\n",
    "This object stores the start time when entering a block and reports time spent when exiting the block. Python's `with` statement avoids cluttering code with intrusive prints."
   ]
  },
  {
   "cell_type": "code",
   "execution_count": 1,
   "metadata": {},
   "outputs": [
    {
     "name": "stdout",
     "output_type": "stream",
     "text": [
      "--> begin fibonacci 30\n",
      "fibonacci(30) = 832040\n",
      "<-- end fibonacci 30,  time: 218 ms\n"
     ]
    }
   ],
   "source": [
    "import time\n",
    "import math\n",
    "\n",
    "class ContextTimer(object):\n",
    "    def __init__(self, msg):\n",
    "        self.msg = msg\n",
    "        self.start = 0\n",
    "        \n",
    "    def __enter__(self):\n",
    "        self.start = time.time()\n",
    "        print('--> begin {0}'.format(self.msg))\n",
    "        return self  # return value is value of with ()\n",
    "        \n",
    "    def __exit__(self, *args):\n",
    "        elapsed = time.time() - self.start\n",
    "        self.msecs = math.ceil(1000* elapsed)\n",
    "        print('<-- end {0},  time: {1:.0f} ms'.format(self.msg, self.msecs))   \n",
    "        \n",
    "# try our timer on computing fibonacci numbers\n",
    "def fib(n):\n",
    "    return 1 if n <= 2 else  fib(n-1) + fib(n-2)\n",
    "\n",
    "# timing fibonacci(30)\n",
    "with ContextTimer(\"fibonacci 30\"):\n",
    "    n = 30\n",
    "    f = fib(n)\n",
    "    print(\"fibonacci({0}) = {1}\".format(n, f))\n",
    "        "
   ]
  },
  {
   "cell_type": "markdown",
   "metadata": {},
   "source": [
    "## The benchmark model\n",
    "\n",
    "To compare various implementations, we need a simple, scalable benchmark model. The model has no real business meaning, but is simple to grasp\n",
    "and can be scaled by changing one `size` parameter.\n",
    "Note that we'll be comparing only the _build_ time of the model, not the _solve_ time.\n",
    "\n",
    "Note that the model has _n_ constraints, all with expressions of size _N_, so we expect the underlying matrix _size_ to grow as $O(N^2)$."
   ]
  },
  {
   "cell_type": "markdown",
   "metadata": {},
   "source": [
    "### Description\n",
    "\n",
    "Let $N$ be an integer (the size of the problem).\n",
    "\n",
    "$$\n",
    "minimize \\sum_{k=0}^{k=N-1} (k+1) * y_{k}\\\\\n",
    "s.t.\\\\\n",
    "\\forall\\ \\ m\\ in \\{0..N-1\\}\\ \\ \\sum_{l=0}^{l=N-1} (y_{l} * (l+ (l+m) \\%3) \\ge l\\\\\n",
    "y_{k} = 0, 1\\\\\n",
    "\\\\\n",
    "\\sum_{l} y_{l} \\ge 2\\\\\n",
    "$$"
   ]
  },
  {
   "cell_type": "markdown",
   "metadata": {},
   "source": [
    "## A beginners's implementation of the model\n",
    "\n",
    "In this section we show a Python/Docplex beginner's implementation of this model.\n"
   ]
  },
  {
   "cell_type": "code",
   "execution_count": 2,
   "metadata": {},
   "outputs": [],
   "source": [
    "from docplex.mp.model import Model\n",
    "\n",
    "def build_bench_model1(size=10):\n",
    "    m = Model(name=\"bench1\")\n",
    "    rsize = range(size)\n",
    "    # create variables as a dictionary indexed by the range\n",
    "    ys = m.binary_var_dict(rsize, name=\"my_yvar\")\n",
    "    # create constraints\n",
    "    k = {(i,j) : (i + (i+j) %3) for i in rsize for j in rsize}\n",
    "    for i in rsize:\n",
    "        m.add(m.sum(ys[i] * k[i,j] for j in rsize) >= i, \"ct_sum_yjs_%d\" %i)\n",
    "    # for minimize, create a list of coefficients\n",
    "    rsize1 = [i+1 for i in rsize]\n",
    "    m.minimize(m.sum(ys[k] * rsize[k] for k in rsize))\n",
    "    return m"
   ]
  },
  {
   "cell_type": "markdown",
   "metadata": {},
   "source": [
    "Lets run our context timer with N=1000; we expect a model with 1000 variables and 1000 constraints:"
   ]
  },
  {
   "cell_type": "code",
   "execution_count": 3,
   "metadata": {},
   "outputs": [
    {
     "name": "stdout",
     "output_type": "stream",
     "text": [
      "--> begin bench1_size_1000\n",
      "<-- end bench1_size_1000,  time: 4488 ms\n",
      "Model: bench1\n",
      " - number of variables: 1000\n",
      "   - binary=1000, integer=0, continuous=0\n",
      " - number of constraints: 1000\n",
      "   - linear=1000\n",
      " - parameters: defaults\n",
      " - problem type is: MILP\n"
     ]
    }
   ],
   "source": [
    "with ContextTimer(\"bench1_size_1000\"):\n",
    "    m11k = build_bench_model1(1000)\n",
    "m11k.print_information()"
   ]
  },
  {
   "cell_type": "markdown",
   "metadata": {},
   "source": [
    "As expected the model has 1000 variables and 1000 constraints and the build time is significant.\n",
    "For N=3000, we can expect an increase in buid time by a factor of 9, so you might as well go grab a coffee while this cell executes.."
   ]
  },
  {
   "cell_type": "code",
   "execution_count": 4,
   "metadata": {},
   "outputs": [
    {
     "name": "stdout",
     "output_type": "stream",
     "text": [
      "--> begin bench1 size=3000\n",
      "<-- end bench1 size=3000,  time: 39637 ms\n"
     ]
    }
   ],
   "source": [
    "N=3000\n",
    "with ContextTimer(\"bench1 size={0}\".format(N)):\n",
    "    build_bench_model1(N)"
   ]
  },
  {
   "cell_type": "markdown",
   "metadata": {},
   "source": [
    "#  Common tips to improve DOcplex code efficiency"
   ]
  },
  {
   "cell_type": "markdown",
   "metadata": {},
   "source": [
    "## Tip #1: Use scalar product\n",
    "\n",
    "When building large expressions,  scalar product (`Model.scal_prod()`) is \n",
    "an efficient way to combine a sequence of variables (or expressions)\n",
    "and a sequence of coefficients.\n",
    "Try using `scalar_prod` instead of using `for` loops in expressions."
   ]
  },
  {
   "cell_type": "code",
   "execution_count": 5,
   "metadata": {},
   "outputs": [
    {
     "name": "stdout",
     "output_type": "stream",
     "text": [
      "--> begin bench2 size=3000\n",
      "<-- end bench2 size=3000,  time: 24449 ms\n"
     ]
    }
   ],
   "source": [
    "def build_bench_model2(size=10):\n",
    "    m = Model(name=\"bench2\")\n",
    "    rsize = range(size)\n",
    "    # create variables as a dictionary indexed by the range\n",
    "    ys = m.binary_var_dict(rsize, name=\"y\")\n",
    "    # create a matrix of coefficients\n",
    "    k = {(i,j) : (i + (i+j) %3) for i in rsize for j in rsize}\n",
    "    for i in rsize:\n",
    "        m.add(m.scal_prod([ys[i1] for i1 in rsize], [k[i,j] for j in rsize]) >= i, \"ct_%d\" % i)\n",
    "    # for minimize, create a list of coefficients\n",
    "    rsize1 = [i+1 for i in rsize]\n",
    "    m.minimize(m.scal_prod([ys[k] for k in rsize], rsize1))\n",
    "    return m\n",
    "\n",
    "with ContextTimer(\"bench2 size={0}\".format(N)):\n",
    "    build_bench_model2(N)"
   ]
  },
  {
   "cell_type": "markdown",
   "metadata": {},
   "source": [
    "## Tip #2 (variant) : try functional scalar product (a.k.a. dotf)\n",
    "\n",
    "Since DOcplex 2.9, Scalar product has a _functional_ variant, in which  coefficients are computed on the fly, with no need to prepare a (possibly large) container of numbers. In some cases, this can save a significant time.\n",
    "\n",
    "The method is `Model.dotf` takes two arguments:\n",
    "\n",
    "  - a dictionary of variables, as create by the Model.xxx_var-dict methods\n",
    "  - a Python function that takes a variable key an dreturn a float, the coefficient \\\n",
    "  \n",
    "In our example, keys are the integer from 0 to `size-1` .\n",
    "The coefficient for y_j in the i_th constraint is i+(i+j)%3: here we do not need\n",
    "to precompute a list or a comprehension, but only use a lambda function to compute this.\n",
    "\n",
    "We also leverage `dotf` for the objective, where the cost coefficient for y_j is (j+1)"
   ]
  },
  {
   "cell_type": "code",
   "execution_count": 6,
   "metadata": {},
   "outputs": [
    {
     "name": "stdout",
     "output_type": "stream",
     "text": [
      "--> begin bench3 size=3000\n",
      "<-- end bench3 size=3000,  time: 15718 ms\n"
     ]
    }
   ],
   "source": [
    "def build_bench_model3(size=10):\n",
    "    m = Model(name=\"bench3\")\n",
    "    rsize = range(size)\n",
    "    # create variables as a dictionary indexed by the range\n",
    "    ys = m.binary_var_dict(rsize, name=\"y\")\n",
    "    # no need to build an explicit matrix\n",
    "    #k = {(i,j) : (i + (i+j) %3) for i in rsize for j in rsize}\n",
    "    for i in rsize:\n",
    "        # the ith function is a function oj returning (i+(i+j)%3)\n",
    "        fi = lambda j_: i + (i+j_) % 3\n",
    "        m.add(m.dotf(ys, fi) >= i, \"ct_%d\" % i)\n",
    "    m.minimize(m.dotf(ys, lambda j_: j_ +1))\n",
    "    return m\n",
    "\n",
    "with ContextTimer(\"bench3 size={0}\".format(N)):\n",
    "    build_bench_model3(N)"
   ]
  },
  {
   "cell_type": "markdown",
   "metadata": {},
   "source": [
    "## Tip #3: Add constraints in batches\n",
    "\n",
    "Adding constraints to the model by batches using `Model.add_constraints()`\n",
    "is usually more efficient.\n",
    "Try grouping constraints in lists or comprehensions (both work).\n",
    "\n",
    "If the constraints are named, pass a second argument with the collection of constraint names.\n",
    "\n",
    "Note that `Model.add` runs `Model.add_constraints` if passed an iterable."
   ]
  },
  {
   "cell_type": "code",
   "execution_count": 7,
   "metadata": {},
   "outputs": [
    {
     "name": "stdout",
     "output_type": "stream",
     "text": [
      "--> begin bench4 size=3000\n",
      "<-- end bench4 size=3000,  time: 15214 ms\n"
     ]
    }
   ],
   "source": [
    "def build_bench_model4(size=10):\n",
    "    m = Model(name=\"bench4\")\n",
    "    rsize = range(size)\n",
    "    # create variables as a dictionary indexed by the range\n",
    "    ys = m.binary_var_dict(rsize, name=\"y\")\n",
    "    # create constraints\n",
    "    m.add_constraints((m.dotf(ys, lambda j_: i + (i+j_) % 3) >= i for i in rsize),\n",
    "         (\"ct_%d\" % i for i in rsize))\n",
    "    m.minimize(m.dotf(ys, lambda j_: j_ +1))\n",
    "    return m\n",
    "\n",
    "with ContextTimer(\"bench4 size={0}\".format(N)):\n",
    "    build_bench_model4(N)"
   ]
  },
  {
   "cell_type": "markdown",
   "metadata": {},
   "source": [
    "## Tip #4: take control of name generation\n",
    "\n",
    "Naming variables and/or constraints is useful to generate readable LP files. However, generating large numbers of strings may have a significant cost in Python, especially for large models. \n",
    "\n",
    "Passing `ignore_names=True` at model creation time, disables all name generation (variables and constraint names alike) everywhere in the model. \n",
    "\n",
    "By default, names are active and this flag is  `False`.\n"
   ]
  },
  {
   "cell_type": "code",
   "execution_count": 8,
   "metadata": {},
   "outputs": [
    {
     "name": "stdout",
     "output_type": "stream",
     "text": [
      "--> begin bench5 size=3000\n",
      "<-- end bench5 size=3000,  time: 14938 ms\n"
     ]
    }
   ],
   "source": [
    "def build_bench_model5(size=10):\n",
    "    m = Model(name=\"bench5\", ignore_names=True)\n",
    "    rsize = range(size)\n",
    "    # create variables as a dictionary indexed by the range\n",
    "    ys = m.binary_var_dict(rsize, name=\"y\")\n",
    "    # create constraints\n",
    "    m.add((m.dotf(ys, lambda j_: i + (i+j_) % 3) >= i for i in rsize),\n",
    "         (\"ct_%d\" % i for i in rsize))\n",
    "    m.minimize(m.dotf(ys, lambda j_: j_ +1))\n",
    "    return m\n",
    "\n",
    "with ContextTimer(\"bench5 size={0}\".format(N)):\n",
    "    build_bench_model5(N)"
   ]
  },
  {
   "cell_type": "markdown",
   "metadata": {},
   "source": [
    "## Tip #5: take control of argument checking\n",
    "\n",
    "DOcplex usually checks the argumens passed to methods. As this can be useful when writing the model to avoid errors, this checking comes with a runtime cost. When running a deployed model that has been thoroughly tested and tuned, you can remove all checks by adding the `checker=\"off\"` keyword argument to the model constructor.\n",
    "\n",
    "Again, the next version is identical to the previous one , except that type-checking has been disabled."
   ]
  },
  {
   "cell_type": "code",
   "execution_count": 9,
   "metadata": {},
   "outputs": [
    {
     "name": "stdout",
     "output_type": "stream",
     "text": [
      "--> begin bench6 size=3000\n",
      "<-- end bench6 size=3000,  time: 11661 ms\n"
     ]
    }
   ],
   "source": [
    "def build_bench_model6(size=10):\n",
    "    m = Model(name=\"bench6\", ignore_names=True, checker='off')\n",
    "    rsize = range(size)\n",
    "    # create variables as a dictionary indexed by the range\n",
    "    ys = m.binary_var_dict(rsize, name=\"y\")\n",
    "    # create constraints\n",
    "    m.add((m.dotf(ys, lambda j_: i + (i+j_) % 3) >= i for i in rsize),\n",
    "         (\"ct_%d\" % i for i in rsize))\n",
    "    m.add(m.sum(ys) >= 2, \"sum_ys_ge_2\")\n",
    "    m.minimize(m.dotf(ys, lambda j_: j_ +1))\n",
    "    return m\n",
    "\n",
    "with ContextTimer(\"bench6 size={0}\".format(N)):\n",
    "    build_bench_model6(N)"
   ]
  },
  {
   "cell_type": "markdown",
   "metadata": {},
   "source": [
    "# Summary\n",
    "\n",
    "From version 1 to version 6 , model build time has decreased from 35s to 4s (on our platform). Result smay well differ on other platforms, but still, this demonstrates that the way the model is built can greatly influence the performance.\n",
    "\n",
    "Here is a list of tricks to try to improve model building time:\n",
    "\n",
    " - Use Model.scal_prod wherever possible\n",
    " - Try using Model.dotf when applicable.\n",
    " - Add constraints in batches, not one by one\n",
    " - Try ignoring name generation (for large models)\n",
    " - Try disabling argument checking\n"
   ]
  },
  {
   "cell_type": "markdown",
   "metadata": {},
   "source": [
    "## Plotting the trend\n",
    "\n",
    "In this section we compute the times to build different model versions on various sizes, and\n",
    "plot the result on a graph.\n",
    "This code requires the `matplotlib` library to run.\n",
    "\n",
    "**Note**: the next cell might take a significant time to run, as it\n",
    "runs a lot of (size, model_build_function) combinations..."
   ]
  },
  {
   "cell_type": "code",
   "execution_count": 10,
   "metadata": {},
   "outputs": [
    {
     "name": "stdout",
     "output_type": "stream",
     "text": [
      "* start computing performance data\n",
      "* start computing results...\n",
      "--> begin [1/36] use build_bench_model1 with size=100\n",
      "<-- end [1/36] use build_bench_model1 with size=100,  time: 66 ms\n",
      "--> begin [2/36] use build_bench_model2 with size=100\n",
      "<-- end [2/36] use build_bench_model2 with size=100,  time: 43 ms\n",
      "--> begin [3/36] use build_bench_model3 with size=100\n",
      "<-- end [3/36] use build_bench_model3 with size=100,  time: 45 ms\n",
      "--> begin [4/36] use build_bench_model4 with size=100\n",
      "<-- end [4/36] use build_bench_model4 with size=100,  time: 32 ms\n",
      "--> begin [5/36] use build_bench_model5 with size=100\n",
      "<-- end [5/36] use build_bench_model5 with size=100,  time: 33 ms\n",
      "--> begin [6/36] use build_bench_model6 with size=100\n",
      "<-- end [6/36] use build_bench_model6 with size=100,  time: 29 ms\n",
      "--> begin [7/36] use build_bench_model1 with size=300\n",
      "<-- end [7/36] use build_bench_model1 with size=300,  time: 358 ms\n",
      "--> begin [8/36] use build_bench_model2 with size=300\n",
      "<-- end [8/36] use build_bench_model2 with size=300,  time: 211 ms\n",
      "--> begin [9/36] use build_bench_model3 with size=300\n",
      "<-- end [9/36] use build_bench_model3 with size=300,  time: 255 ms\n",
      "--> begin [10/36] use build_bench_model4 with size=300\n",
      "<-- end [10/36] use build_bench_model4 with size=300,  time: 216 ms\n",
      "--> begin [11/36] use build_bench_model5 with size=300\n",
      "<-- end [11/36] use build_bench_model5 with size=300,  time: 174 ms\n",
      "--> begin [12/36] use build_bench_model6 with size=300\n",
      "<-- end [12/36] use build_bench_model6 with size=300,  time: 141 ms\n",
      "--> begin [13/36] use build_bench_model1 with size=600\n",
      "<-- end [13/36] use build_bench_model1 with size=600,  time: 1324 ms\n",
      "--> begin [14/36] use build_bench_model2 with size=600\n",
      "<-- end [14/36] use build_bench_model2 with size=600,  time: 818 ms\n",
      "--> begin [15/36] use build_bench_model3 with size=600\n",
      "<-- end [15/36] use build_bench_model3 with size=600,  time: 619 ms\n",
      "--> begin [16/36] use build_bench_model4 with size=600\n",
      "<-- end [16/36] use build_bench_model4 with size=600,  time: 564 ms\n",
      "--> begin [17/36] use build_bench_model5 with size=600\n",
      "<-- end [17/36] use build_bench_model5 with size=600,  time: 540 ms\n",
      "--> begin [18/36] use build_bench_model6 with size=600\n",
      "<-- end [18/36] use build_bench_model6 with size=600,  time: 369 ms\n",
      "--> begin [19/36] use build_bench_model1 with size=1000\n",
      "<-- end [19/36] use build_bench_model1 with size=1000,  time: 3748 ms\n",
      "--> begin [20/36] use build_bench_model2 with size=1000\n",
      "<-- end [20/36] use build_bench_model2 with size=1000,  time: 2663 ms\n",
      "--> begin [21/36] use build_bench_model3 with size=1000\n",
      "<-- end [21/36] use build_bench_model3 with size=1000,  time: 1562 ms\n",
      "--> begin [22/36] use build_bench_model4 with size=1000\n",
      "<-- end [22/36] use build_bench_model4 with size=1000,  time: 1802 ms\n",
      "--> begin [23/36] use build_bench_model5 with size=1000\n",
      "<-- end [23/36] use build_bench_model5 with size=1000,  time: 1527 ms\n",
      "--> begin [24/36] use build_bench_model6 with size=1000\n",
      "<-- end [24/36] use build_bench_model6 with size=1000,  time: 1092 ms\n",
      "--> begin [25/36] use build_bench_model1 with size=3000\n",
      "<-- end [25/36] use build_bench_model1 with size=3000,  time: 34271 ms\n",
      "--> begin [26/36] use build_bench_model2 with size=3000\n",
      "<-- end [26/36] use build_bench_model2 with size=3000,  time: 21442 ms\n",
      "--> begin [27/36] use build_bench_model3 with size=3000\n",
      "<-- end [27/36] use build_bench_model3 with size=3000,  time: 13377 ms\n",
      "--> begin [28/36] use build_bench_model4 with size=3000\n",
      "<-- end [28/36] use build_bench_model4 with size=3000,  time: 13483 ms\n",
      "--> begin [29/36] use build_bench_model5 with size=3000\n",
      "<-- end [29/36] use build_bench_model5 with size=3000,  time: 14593 ms\n",
      "--> begin [30/36] use build_bench_model6 with size=3000\n",
      "<-- end [30/36] use build_bench_model6 with size=3000,  time: 12268 ms\n",
      "--> begin [31/36] use build_bench_model1 with size=5000\n",
      "<-- end [31/36] use build_bench_model1 with size=5000,  time: 97333 ms\n",
      "--> begin [32/36] use build_bench_model2 with size=5000\n",
      "<-- end [32/36] use build_bench_model2 with size=5000,  time: 61049 ms\n",
      "--> begin [33/36] use build_bench_model3 with size=5000\n",
      "<-- end [33/36] use build_bench_model3 with size=5000,  time: 37885 ms\n",
      "--> begin [34/36] use build_bench_model4 with size=5000\n",
      "<-- end [34/36] use build_bench_model4 with size=5000,  time: 38767 ms\n",
      "--> begin [35/36] use build_bench_model5 with size=5000\n",
      "<-- end [35/36] use build_bench_model5 with size=5000,  time: 40835 ms\n",
      "--> begin [36/36] use build_bench_model6 with size=5000\n",
      "<-- end [36/36] use build_bench_model6 with size=5000,  time: 26912 ms\n",
      "* end computing results\n"
     ]
    }
   ],
   "source": [
    "# various sizes to sample performance\n",
    "sizes = [100, 300, 600, 1000, 3000, 5000]\n",
    "\n",
    "# a lits of tuples (fn, label) to build model and an explanatory label\n",
    "builders = [(build_bench_model1, \"initial\"), \n",
    "            (build_bench_model2, \"scal_prod\"),\n",
    "            (build_bench_model3, \"dotf\"),\n",
    "            (build_bench_model4, \"batch_cts\"),\n",
    "            (build_bench_model5, \"ignore_names\"),\n",
    "            (build_bench_model6, \"names_checker_off\")\n",
    "           ]\n",
    "print(\"* start computing performance data\")\n",
    "res = {}\n",
    "print(\"* start computing results...\")\n",
    "nb_runs = len(sizes) * len(builders)\n",
    "r = 0\n",
    "for s in sizes:\n",
    "    for b, (bf, _) in enumerate(builders):\n",
    "        r +=1 \n",
    "        with ContextTimer(\"[{2}/{3}] use {0} with size={1}\"\n",
    "                          .format(bf.__name__, s, r, nb_runs)) as tt:\n",
    "            m = bf(s)\n",
    "            m.end()\n",
    "        elapsed = tt.msecs\n",
    "        res[b, s] = tt.msecs\n",
    "print(\"* end computing results\")\n",
    "# now we have a dict of (#builder, size) -> time"
   ]
  },
  {
   "cell_type": "code",
   "execution_count": 11,
   "metadata": {},
   "outputs": [
    {
     "data": {
      "image/png": "[encoded data removed]",
      "text/plain": [
       "<Figure size 1152x504 with 1 Axes>"
      ]
     },
     "metadata": {
      "needs_background": "light"
     },
     "output_type": "display_data"
    }
   ],
   "source": [
    "try:\n",
    "    import matplotlib.pyplot as plt\n",
    "    %matplotlib inline\n",
    "except ImportError:\n",
    "    print(\"try install matplotlib: pip install matplotlib\")\n",
    "    raise\n",
    "\n",
    "\n",
    "labels = [ bl for (_, bl) in builders]\n",
    "plt.figure(figsize=(16,7))\n",
    "for b in range(len(builders)):\n",
    "    bts = [res[b,s]/1000 for s in sizes]\n",
    "    plt.plot(sizes, bts, label=labels[b])\n",
    "    plt.legend()\n",
    "\n",
    "plt.show()"
   ]
  },
  {
   "cell_type": "markdown",
   "metadata": {},
   "source": [
    "## Average improvement\n",
    "\n",
    "In the next cell, we compute the geometric mean of improvment between the first and last versions. Of course, results may differ depending on platform (and the model, too) but the idea is, applying the above rules may yield a significant improvement"
   ]
  },
  {
   "cell_type": "code",
   "execution_count": 12,
   "metadata": {},
   "outputs": [
    {
     "name": "stdout",
     "output_type": "stream",
     "text": [
      "* geometric mean of time improvement is 3.0\n"
     ]
    }
   ],
   "source": [
    "# compute geomerical mean for all sizes\n",
    "nb_builders = len(builders)\n",
    "ratios = {}\n",
    "for s in sizes:\n",
    "    initial = res[0, s]\n",
    "    # compute best over all builds\n",
    "    best = min(res[b, s] for b in range(nb_builders))\n",
    "    r = (initial/best)\n",
    "    ratios[s] = r\n",
    "import math\n",
    "rgm = math.exp(sum(math.log(r) for r in ratios.values()) / float(nb_builders))\n",
    "print(\"* geometric mean of time improvement is {0:.1f}\".format(rgm))"
   ]
  },
  {
   "cell_type": "markdown",
   "metadata": {
    "collapsed": true
   },
   "source": [
    "Copyright &copy; 2017-2019 IBM. IPLA licensed Sample Materials."
   ]
  },
  {
   "cell_type": "code",
   "execution_count": null,
   "metadata": {},
   "outputs": [],
   "source": []
  }
 ],
 "metadata": {
  "kernelspec": {
   "display_name": "531_36",
   "language": "python",
   "name": "531_36"
  },
  "language_info": {
   "codemirror_mode": {
    "name": "ipython",
    "version": 3
   },
   "file_extension": ".py",
   "mimetype": "text/x-python",
   "name": "python",
   "nbconvert_exporter": "python",
   "pygments_lexer": "ipython3",
   "version": "3.6.8"
  }
 },
 "nbformat": 4,
 "nbformat_minor": 2
}
